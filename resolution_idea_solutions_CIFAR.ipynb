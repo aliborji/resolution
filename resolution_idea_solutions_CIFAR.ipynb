{
  "nbformat": 4,
  "nbformat_minor": 0,
  "metadata": {
    "colab": {
      "name": "resolution_idea_solutions_CIFAR.ipynb",
      "provenance": [],
      "collapsed_sections": []
    },
    "kernelspec": {
      "display_name": "Python 3",
      "language": "python",
      "name": "python3"
    },
    "language_info": {
      "codemirror_mode": {
        "name": "ipython",
        "version": 3
      },
      "file_extension": ".py",
      "mimetype": "text/x-python",
      "name": "python",
      "nbconvert_exporter": "python",
      "pygments_lexer": "ipython3",
      "version": "3.7.3"
    },
    "accelerator": "GPU"
  },
  "cells": [
    {
      "cell_type": "code",
      "metadata": {
        "id": "-Fw-gSFYIbdu",
        "colab": {
          "base_uri": "https://localhost:8080/"
        },
        "outputId": "31c05d13-183f-43fb-818e-4dc7fe63242a"
      },
      "source": [
        "%matplotlib inline\n",
        "!pip install thop\n",
        "\n",
        "from __future__ import print_function\n",
        "import torch\n",
        "import torch.nn as nn\n",
        "import torch.nn.functional as F\n",
        "import torch.optim as optim\n",
        "from torchvision import datasets, transforms\n",
        "import numpy as np\n",
        "import matplotlib.pyplot as plt\n",
        "from thop import profile\n",
        "from torchsummary import summary\n",
        "import torchvision.datasets as dsets"
      ],
      "execution_count": null,
      "outputs": [
        {
          "output_type": "stream",
          "text": [
            "Requirement already satisfied: thop in /usr/local/lib/python3.6/dist-packages (0.0.31.post2005241907)\n",
            "Requirement already satisfied: torch>=1.0.0 in /usr/local/lib/python3.6/dist-packages (from thop) (1.7.0+cu101)\n",
            "Requirement already satisfied: typing-extensions in /usr/local/lib/python3.6/dist-packages (from torch>=1.0.0->thop) (3.7.4.3)\n",
            "Requirement already satisfied: numpy in /usr/local/lib/python3.6/dist-packages (from torch>=1.0.0->thop) (1.19.5)\n",
            "Requirement already satisfied: future in /usr/local/lib/python3.6/dist-packages (from torch>=1.0.0->thop) (0.16.0)\n",
            "Requirement already satisfied: dataclasses in /usr/local/lib/python3.6/dist-packages (from torch>=1.0.0->thop) (0.8)\n"
          ],
          "name": "stdout"
        }
      ]
    },
    {
      "cell_type": "markdown",
      "metadata": {
        "id": "y9c5QX7BgEp4"
      },
      "source": [
        "# training a model first"
      ]
    },
    {
      "cell_type": "code",
      "metadata": {
        "id": "FN6ifgYqgEp4"
      },
      "source": [
        "use_cuda = True\n",
        "\n",
        "# device = torch.device(\"cuda\" if (use_cuda and torch.cuda.is_available()) else \"cpu\")\n",
        "\n"
      ],
      "execution_count": null,
      "outputs": []
    },
    {
      "cell_type": "code",
      "metadata": {
        "id": "rr39Ia68tUnF"
      },
      "source": [
        "\n",
        "def find_res_fixed_params(N, C1, K1, B1, K3, P1, S1, Q1, R1):\n",
        "  '''\n",
        "    Keeping the number of parameters the same\n",
        "    Approach III in the paper\n",
        "  '''\n",
        "  # N1=20 # orig image size\n",
        "\n",
        "  # # layer 1\n",
        "  # C1=3 # filter size old\n",
        "  # K1=20  # num filters old\n",
        "  # P1=0 # padding old\n",
        "  # S1=1 # stride old\n",
        "\n",
        "  # layer 2\n",
        "  # B1=2 # filter size old\n",
        "  # K3=10 # num filters old\t\n",
        "  # Q1=0 # padding old\n",
        "  # R1=1 # stride old\n",
        "\n",
        "  num_solutions = 0 \n",
        "  Solutions = []\n",
        "\n",
        "  # for C1 in np.arange(3,N1/2,2): # filter size old\n",
        "  for N2 in np.arange(N1+1,33,2): # new img resolution\n",
        "    # for B1 in np.arange(2,N2/2): # filter size old\n",
        "      for K2 in np.arange(K1,2,-1): # new number of filters in layer 1\n",
        "        for P2 in np.arange(P1,5): # new padding size in layer 1\n",
        "          for S2 in np.arange(S1,5): # new stride in layer 1\n",
        "            ratio = np.sqrt(K1/K2)\t\t\t\t\n",
        "            if np.int(ratio) != ratio: continue\n",
        "            C2 = ratio * C1\n",
        "\n",
        "            M2 = (N2 - C2 + 2*P2)  / S2  \n",
        "            M1 = (N1 - C1 + 2*P1)  / S1\n",
        "            if M2 != M1: continue\n",
        "\n",
        "            # 2nd layer\n",
        "            # for Q2 in np.arange(Q1,5): # new padding size in layer 2\n",
        "            #   for R2 in np.arange(R1,5): # new stride size in layer 2\n",
        "            for Q2 in np.arange(3): # new padding size in layer 2\n",
        "              for R2 in np.arange(1,2): # new stride size in layer 2\n",
        "\n",
        "                B2 = ratio * B1 \n",
        "                if np.int(B2) != B2: continue\t\n",
        "                if (M2 - B2 + 2*Q2)  / R2  !=  (M1 - B1 + 2*Q1)  / R1: continue\n",
        "                M3 = (M2 - B2 + 2*Q2)  / R2 \n",
        "\n",
        "                if B2 > M2/2: continue\t\t\t\t\t\t\t\t\n",
        "\n",
        "                # print(f'found a solution {C1}, {B1}, {N2}, {K2}, {P2}, {S1}, {B2}, {Q2}, {R2}')\n",
        "\n",
        "                # print(f'1st layer old: inp res: {N1}, filter size: {C1}, num filters: {K1}, out res: {M1}, stride: {S1}, pad: {P1}')\n",
        "                # print(f'1st layer new: inp res: {N2}, filter size: {C2}, num filters: {K2}, out res: {M2}, stride: {S2}, pad: {P2}')\n",
        "                # print(f'2nd layer old: inp res: {M1}, filter size: {B1}, out res: {M3}, stride: {R1}, pad: {Q1}')\n",
        "                # print(f'2nd layer new: inp res: {M1}, filter size: {B2}, out res: {M3}, stride: {R2}, pad: {Q2}\\n')\n",
        "                params_old = (K1 * C1**2 * 3) + (K3 * B1**2 * K1) \n",
        "                params_new = (K2 * C2**2 * 3) + (K3 * B2**2 * K2) \n",
        "\n",
        "                assert params_old==params_new, False\n",
        "                # print(f'PARAMs old: {params_old}, PARAMs new: {params_new}\\n')\n",
        "\n",
        "                num_solutions += 1\n",
        "                Solutions.append({'im_res_orig':N1, 'im_res_new':N2, 'layer1_old':[C1, K1, S1, P1], 'layer2_old':[B1, K3, R1, Q1], 'layer1':[C2, K2, S2, P2], 'layer2':[B2, K3, R2, Q2]})\n",
        "\n",
        "  # print(f'num solutions: {num_solutions}')\n",
        "  return Solutions"
      ],
      "execution_count": null,
      "outputs": []
    },
    {
      "cell_type": "code",
      "metadata": {
        "id": "FcEaJXHJtcNJ"
      },
      "source": [
        ""
      ],
      "execution_count": null,
      "outputs": []
    },
    {
      "cell_type": "code",
      "metadata": {
        "id": "EDttasGMlZ02"
      },
      "source": [
        "from keras.preprocessing.image import img_to_array\n",
        "from keras.preprocessing.image import array_to_img\n",
        "\n",
        "\n",
        "class NetTest(nn.Module):\n",
        "    def __init__(self, im_res=32, conv1_size=5, conv2_size=5, pool1_size=2, pool2_size=2, num_conv1=10, num_conv2=10, stride_1=1, stride_2=1, padd_1=0, padd_2=0, num_hid=50):\n",
        "        super(NetTest, self).__init__()\n",
        "        # import pdb; pdb.set_trace()\n",
        "        self.conv1 = nn.Conv2d(3, num_conv1, kernel_size=conv1_size, stride=stride_1, padding=padd_1, bias=False)\n",
        "        self.res1 = int((im_res - conv1_size + 2*padd_1) / stride_1 + 1)\n",
        "        self.conv2 = nn.Conv2d(num_conv1, num_conv2, kernel_size=conv2_size, stride=stride_2, padding=padd_2, bias=False)\n",
        "        self.res2_pool = int((self.res1 - pool1_size + 2*0) / pool1_size + 1)                \n",
        "        self.res2_conv = int((self.res2_pool - conv2_size + 2*padd_2) / stride_2 + 1 )       \n",
        "        self.res2_pool = int((self.res2_conv - pool2_size + 2*0) / pool2_size + 1)               \n",
        "        self.conv2_drop = nn.Dropout2d()\n",
        "\n",
        "        self.fc1 = nn.Linear((self.res2_pool**2)*num_conv2, num_hid, bias=False)        \n",
        "        self.fc2 = nn.Linear(num_hid, 10, bias=False)\n",
        "        self.pool1_size = pool1_size\n",
        "        self.pool2_size = pool2_size\n",
        "        self.num_conv2 = num_conv2\n",
        "        self.im_res = im_res\n",
        "\n",
        "        \n",
        "    def forward(self, x):\n",
        "        # import pdb; pdb.set_trace()\n",
        "        # x = F.avg_pool2d(x, kernel_size=28//self.im_res)\n",
        "        # x = F.avg_pool2d(x, kernel_size=2, padding=6, stride=2)\n",
        "        # x = cv2.resize(x, (self.im_res, self.im_res)) \n",
        "\n",
        "        # xx = torch.stack((x[0,0],x[0,0], x[0,0]), axis=2)\n",
        "        # img_pil = array_to_img(xx.cpu())\n",
        "        # img_pil = img_pil.resize((self.im_res,self.im_res))\n",
        "        # x = torch.tensor(img_to_array(img_pil)).cuda()\n",
        "        # x = x[:,:,0][None,None] #.permute(2,0,1)\n",
        "\n",
        "        tmp1 = F.relu(F.max_pool2d(self.conv1(x), self.pool1_size))\n",
        "        tmp = F.relu(F.max_pool2d(self.conv2_drop(self.conv2(tmp1)), self.pool2_size))\n",
        "        # x = F.avg_pool2d(tmp, kernel_size=tmp.shape[-1])\n",
        "        # x = x[:,:,0,0]\n",
        "\n",
        "        x = tmp.view(-1, (self.res2_pool**2)*self.num_conv2)\n",
        "        x = F.relu(self.fc1(x))\n",
        "        x = F.dropout(x, training=self.training)\n",
        "        x = self.fc2(x)\n",
        "        return x   ### SUPER IMPORTANT ***************************** works with cross entropy loss loss now\n",
        "\n",
        "device = 'cuda'"
      ],
      "execution_count": null,
      "outputs": []
    },
    {
      "cell_type": "code",
      "metadata": {
        "id": "NINTmFMRDpeM"
      },
      "source": [
        "# c = 6\n",
        "# p = 3\n",
        "# s = 2\n",
        "# assert 20 == (28 - c + 2*p) / s + 1, False\n",
        "# 19 = 22 + 2*6 \n",
        "# import cv2\n"
      ],
      "execution_count": null,
      "outputs": []
    },
    {
      "cell_type": "code",
      "metadata": {
        "id": "3CGZ2JLFzdgA"
      },
      "source": [
        "def train_model(model):\n",
        "\n",
        "  EPOCHS = 10\n",
        "  losses = []\n",
        "\n",
        "  optimizer = optim.Adadelta(model.parameters())\n",
        "\n",
        "  model.train()\n",
        "  for epoch in range(EPOCHS):\n",
        "      for batch_idx, (data, target) in enumerate(train_loader):\n",
        "          \n",
        "          data, target = data.to(device), target.to(device)        \n",
        "          optimizer.zero_grad()\n",
        "          y_pred = model(data) \n",
        "\n",
        "          # import pdb; pdb.set_trace()\n",
        "          loss = F.cross_entropy(y_pred, target)\n",
        "          losses.append(loss.cpu().data)\n",
        "\n",
        "          loss.backward()\n",
        "          optimizer.step()\n",
        "          \n",
        "          # Display\n",
        "          if batch_idx % 100 == 1:\n",
        "              print('\\r Train Epoch: {}/{} [{}/{} ({:.0f}%)]\\tLoss: {:.6f}'.format(\n",
        "                  epoch+1,\n",
        "                  EPOCHS,\n",
        "                  batch_idx * len(data), \n",
        "                  len(train_loader.dataset),\n",
        "                  100. * batch_idx / len(train_loader), \n",
        "                  loss.cpu().data), \n",
        "                  end='')\n",
        "\n",
        "  # Eval\n",
        "  # model.eval()\n",
        "  # Eval\n",
        "  model.eval()\n",
        "  correct = total = 0\n",
        "  for idx, (images, labels) in enumerate(test_loader):\n",
        "      images, labels = images.to(device), labels.to(device)\n",
        "\n",
        "      outputs = model(images)\n",
        "      _, pre = torch.max(outputs.data, 1)\n",
        "\n",
        "      total += len(labels)\n",
        "      correct += (pre == labels).sum()\n",
        "\n",
        "  accuracy = float(correct) / total\n",
        "  print('Test Accuracy: %f %%' % accuracy)\n",
        "  # return acc\n",
        "\n",
        "\n",
        "  # import pdb; pdb.set_trace()\n",
        "  # evaluate_x = test_loader.dataset.test_data.type_as(torch.FloatTensor()).to(device)\n",
        "  # evaluate_y = test_loader.dataset.test_labels.to(device)\n",
        "\n",
        "  # output = model(evaluate_x[:,None,...])\n",
        "  # pred = output.data.max(1)[1]\n",
        "  # d = pred.eq(evaluate_y.data).cpu()\n",
        "  # accuracy = d.sum().type(dtype=torch.float64)/d.size()[0]\n",
        "  \n",
        "  print('\\r Train Epoch: {}/{} [{}/{} ({:.0f}%)]\\tLoss: {:.6f}\\t Test Accuracy: {:.4f}%'.format(\n",
        "      epoch+1,\n",
        "      EPOCHS,\n",
        "      len(train_loader.dataset), \n",
        "      len(train_loader.dataset),\n",
        "      100. * batch_idx / len(train_loader), \n",
        "      loss.cpu().data,\n",
        "      accuracy*100,\n",
        "      end=''))\n",
        "  \n",
        "\n",
        "  return accuracy"
      ],
      "execution_count": null,
      "outputs": []
    },
    {
      "cell_type": "code",
      "metadata": {
        "id": "wdlukGiltyP5"
      },
      "source": [
        "# sol_3"
      ],
      "execution_count": null,
      "outputs": []
    },
    {
      "cell_type": "code",
      "metadata": {
        "id": "-Saj7rxrhL6Z"
      },
      "source": [
        ""
      ],
      "execution_count": null,
      "outputs": []
    },
    {
      "cell_type": "code",
      "metadata": {
        "id": "vIedXhFbNK84"
      },
      "source": [
        "def evaluate_orig_model(sol):\n",
        "\n",
        "  # run the original model for a couple of times\n",
        "  # sol = sol_3[0]\n",
        "  sol['orig_solutions'] = []\n",
        "\n",
        "  im_res = sol['im_res_orig']\n",
        "  cv1_size = int(sol['layer1_old'][0])\n",
        "  cv2_size = int(sol['layer2_old'][0])\n",
        "  no_conv1 = sol['layer1_old'][1]\n",
        "  no_conv2 = sol['layer2_old'][1]\n",
        "  st1 = sol['layer1_old'][2]\n",
        "  st2 = sol['layer2_old'][2]\n",
        "  pd1 = sol['layer1_old'][3]\n",
        "  pd2 = sol['layer2_old'][3]\n",
        "\n",
        "  global train_loader\n",
        "  global test_loader\n",
        "  \n",
        "\n",
        "  train_loader = torch.utils.data.DataLoader(\n",
        "      datasets.CIFAR10('../data', train=True, download=True, transform=transforms.Compose([\n",
        "              transforms.ToTensor(),transforms.Resize((im_res, im_res)),])), batch_size=100, shuffle=True)\n",
        "\n",
        "  test_loader = torch.utils.data.DataLoader(\n",
        "      datasets.CIFAR10('../data', train=False, download=True, transform=transforms.Compose([\n",
        "              transforms.ToTensor(),transforms.Resize((im_res, im_res)),])), batch_size=100, shuffle=True)\n",
        "\n",
        "\n",
        "  # classes = ('plane', 'car', 'bird', 'cat', 'deer', 'dog', 'frog', 'horse', 'ship', 'truck')\n",
        "  # num_cls = len(classes)\n",
        "  # p = next(iter(train_loader))[0].shape[-1]\n",
        "\n",
        "  try:\n",
        "    # print(f'----  im_res={im_res_new}, conv1_size={cv1_size}, conv2_size={cv2_size}')\n",
        "    # import pdb; pdb.set_trace()\n",
        "    accs = []\n",
        "    for i in range(3):\n",
        "      model = NetTest(im_res=im_res, conv1_size=cv1_size, conv2_size=cv2_size, num_conv1=no_conv1, num_conv2=no_conv2, padd_1=pd1, padd_2=pd2, stride_1=st1, stride_2=st2).to(device)\n",
        "      if i==0:\n",
        "        macs, params = profile(model, inputs=(torch.randn(1, 3, im_res, im_res).to(device), ))\n",
        "      accs.append(train_model(model))\n",
        "    \n",
        "    sol['orig_solutions'].append((macs, params, np.mean(accs)))\n",
        "    # accuracies.append((sol, macs, params, acc))\n",
        "    # print(accuracies[-1])\n",
        "    print(sol, '\\n')\n",
        "\n",
        "  except:\n",
        "    print('\\n Model invalid')\n",
        "\n",
        "\n",
        "  return #sol\n"
      ],
      "execution_count": null,
      "outputs": []
    },
    {
      "cell_type": "code",
      "metadata": {
        "id": "chf2kB7wVinf"
      },
      "source": [
        "def evaluate_new_model(sols):\n",
        "  # running the solutions; one by one; three each\n",
        "  # for run_no\n",
        "  for sol in sols:\n",
        "        im_res = sol['im_res_new']\n",
        "        cv1_size = int(sol['layer1'][0])\n",
        "        cv2_size = int(sol['layer2'][0])\n",
        "        no_conv1 = sol['layer1'][1]\n",
        "        no_conv2 = sol['layer2'][1]\n",
        "        st1 = sol['layer1'][2]\n",
        "        st2 = sol['layer2'][2]\n",
        "        pd1 = sol['layer1'][3]\n",
        "        pd2 = sol['layer2'][3]\n",
        "\n",
        "        sol['new_solutions'] = []\n",
        "\n",
        "        global train_loader\n",
        "        global test_loader\n",
        "\n",
        "        train_loader = torch.utils.data.DataLoader(\n",
        "            datasets.CIFAR10('../data', train=True, download=True, transform=transforms.Compose([\n",
        "                    transforms.ToTensor(),transforms.Resize((im_res, im_res)),])), batch_size=100, shuffle=True)\n",
        "\n",
        "        test_loader = torch.utils.data.DataLoader(\n",
        "            datasets.CIFAR10('../data', train=False, download=True, transform=transforms.Compose([\n",
        "                    transforms.ToTensor(),transforms.Resize((im_res, im_res)),])), batch_size=100, shuffle=True)\n",
        "\n",
        "\n",
        "        try:\n",
        "          # print(f'----  im_res={im_res_new}, conv1_size={cv1_size}, conv2_size={cv2_size}')\n",
        "          # import pdb; pdb.set_trace()\n",
        "          accs = []\n",
        "          for i in range(3):\n",
        "            model = NetTest(im_res=im_res, conv1_size=cv1_size, conv2_size=cv2_size, num_conv1=no_conv1, num_conv2=no_conv2, padd_1=pd1, padd_2=pd2, stride_1=st1, stride_2=st2).to(device)\n",
        "            if i==0:\n",
        "              macs, params = profile(model, inputs=(torch.randn(1, 3, im_res, im_res).to(device), ))\n",
        "            accs.append(train_model(model))\n",
        "          \n",
        "          sol['new_solutions'].append((macs, params, np.mean(accs)))\n",
        "          # accuracies.append((sol, macs, params, acc))\n",
        "          # print(accuracies[-1])\n",
        "          print(sol, '\\n')\n",
        "\n",
        "        except:\n",
        "          print('\\n Model invalid')\n",
        "\n",
        "\n",
        "        return #sol\n"
      ],
      "execution_count": null,
      "outputs": []
    },
    {
      "cell_type": "code",
      "metadata": {
        "colab": {
          "base_uri": "https://localhost:8080/"
        },
        "id": "FXpPn7xn2Mfv",
        "outputId": "bf8d2e76-ba57-43ed-eb60-2cb54b8a2e47"
      },
      "source": [
        "\n",
        "import random \n",
        "all_res = {}\n",
        "\n",
        "for N1 in [12]:#12,16,20,24]:\n",
        "  all_solutions = []\n",
        "  for C1 in np.arange(3,8,2): # filter size layer 1 \n",
        "    for K1 in np.arange(10,21,5): # num filters layer 1   \n",
        "      for B1 in np.arange(3,8,2): # filter size layer 2 \n",
        "        for K3 in np.arange(10,21,5): # num filters layer 2    \n",
        "          for P1 in np.arange(2): # padding layer 1\n",
        "            for S1 in np.arange(1,2): # stride layer 1    \n",
        "              for Q1 in np.arange(2): # padding layer 2\n",
        "                for R1 in np.arange(1,2): # stride layer 2   \n",
        "                  xx = find_res_fixed_params(N1, C1, K1, B1, K3, P1, S1, Q1, R1)\n",
        "                  if xx:\n",
        "                    all_solutions.append(xx)\n",
        "  \n",
        "  results = []\n",
        "  random.shuffle(all_solutions)\n",
        "  all_solutions.sort(key=len, reverse=True)\n",
        "  all_solutions = all_solutions[:10]\n",
        "  for idx, sol_3 in enumerate(all_solutions):\n",
        "    print(f'\\n --------------------- solution no {idx} -------------------- \\n')\n",
        "    evaluate_orig_model(sol_3[0])\n",
        "    if not sol_3[0]['orig_solutions']:\n",
        "      break\n",
        "\n",
        "    if len(sol_3) > 4:\n",
        "      sol_3 = sol_3[:4]\n",
        "\n",
        "    evaluate_new_model(sol_3)\n",
        "    xx = (sol_3[0]['orig_solutions'][0], [sol['new_solutions'][0][-1] for sol in sol_3 if sol['new_solutions']])\n",
        "\n",
        "    results.append(xx)\n",
        "\n",
        "  all_res[N1] = results          \n",
        "print(len(all_solutions))\n",
        "\n",
        "\n",
        "\n"
      ],
      "execution_count": null,
      "outputs": [
        {
          "output_type": "stream",
          "text": [
            "\n",
            " --------------------- solution no 0 -------------------- \n",
            "\n",
            "Files already downloaded and verified\n",
            "Files already downloaded and verified\n",
            "[INFO] Register count_convNd() for <class 'torch.nn.modules.conv.Conv2d'>.\n",
            "\u001b[91m[WARN] Cannot find rule for <class 'torch.nn.modules.dropout.Dropout2d'>. Treat it as zero Macs and zero Params.\u001b[00m\n",
            "[INFO] Register count_linear() for <class 'torch.nn.modules.linear.Linear'>.\n",
            "\u001b[91m[WARN] Cannot find rule for <class '__main__.NetTest'>. Treat it as zero Macs and zero Params.\u001b[00m\n",
            " Train Epoch: 10/10 [40100/50000 (80%)]\tLoss: 1.608110Test Accuracy: 0.511700 %\n",
            " Train Epoch: 10/10 [50000/50000 (100%)]\tLoss: 1.575675\t Test Accuracy: 51.1700%\n",
            "{'im_res_orig': 16, 'im_res_new': 23, 'layer1_old': [5, 30, 1, 1], 'layer2_old': [5, 15, 1, 2], 'layer1': [5.0, 30, 2, 4], 'layer2': [5.0, 15, 1, 2], 'orig_solutions': [(999500.0, 20750.0, 0.5117)]} \n",
            "\n",
            "Files already downloaded and verified\n",
            "Files already downloaded and verified\n",
            "[INFO] Register count_convNd() for <class 'torch.nn.modules.conv.Conv2d'>.\n",
            "\u001b[91m[WARN] Cannot find rule for <class 'torch.nn.modules.dropout.Dropout2d'>. Treat it as zero Macs and zero Params.\u001b[00m\n",
            "[INFO] Register count_linear() for <class 'torch.nn.modules.linear.Linear'>.\n",
            "\u001b[91m[WARN] Cannot find rule for <class '__main__.NetTest'>. Treat it as zero Macs and zero Params.\u001b[00m\n",
            " Train Epoch: 10/10 [40100/50000 (80%)]\tLoss: 1.475113Test Accuracy: 0.517900 %\n",
            " Train Epoch: 10/10 [50000/50000 (100%)]\tLoss: 1.621573\t Test Accuracy: 51.7900%\n",
            "{'im_res_orig': 16, 'im_res_new': 23, 'layer1_old': [5, 30, 1, 1], 'layer2_old': [5, 15, 1, 2], 'layer1': [5.0, 30, 2, 4], 'layer2': [5.0, 15, 1, 2], 'orig_solutions': [(999500.0, 20750.0, 0.5117)], 'new_solutions': [(999500.0, 20750.0, 0.5179)]} \n",
            "\n",
            "Files already downloaded and verified\n",
            "Files already downloaded and verified\n",
            "[INFO] Register count_convNd() for <class 'torch.nn.modules.conv.Conv2d'>.\n",
            "\u001b[91m[WARN] Cannot find rule for <class 'torch.nn.modules.dropout.Dropout2d'>. Treat it as zero Macs and zero Params.\u001b[00m\n",
            "[INFO] Register count_linear() for <class 'torch.nn.modules.linear.Linear'>.\n",
            "\u001b[91m[WARN] Cannot find rule for <class '__main__.NetTest'>. Treat it as zero Macs and zero Params.\u001b[00m\n",
            " Train Epoch: 10/10 [40100/50000 (80%)]\tLoss: 1.480775Test Accuracy: 0.497700 %\n",
            " Train Epoch: 10/10 [50000/50000 (100%)]\tLoss: 1.497016\t Test Accuracy: 49.7700%\n",
            "{'im_res_orig': 16, 'im_res_new': 25, 'layer1_old': [5, 30, 1, 1], 'layer2_old': [5, 15, 1, 2], 'layer1': [5.0, 30, 2, 3], 'layer2': [5.0, 15, 1, 2], 'new_solutions': [(999500.0, 20750.0, 0.4977)]} \n",
            "\n",
            "Files already downloaded and verified\n",
            "Files already downloaded and verified\n",
            "[INFO] Register count_convNd() for <class 'torch.nn.modules.conv.Conv2d'>.\n",
            "\u001b[91m[WARN] Cannot find rule for <class 'torch.nn.modules.dropout.Dropout2d'>. Treat it as zero Macs and zero Params.\u001b[00m\n",
            "[INFO] Register count_linear() for <class 'torch.nn.modules.linear.Linear'>.\n",
            "\u001b[91m[WARN] Cannot find rule for <class '__main__.NetTest'>. Treat it as zero Macs and zero Params.\u001b[00m\n",
            " Train Epoch: 10/10 [40100/50000 (80%)]\tLoss: 1.364651Test Accuracy: 0.507100 %\n",
            " Train Epoch: 10/10 [50000/50000 (100%)]\tLoss: 1.440716\t Test Accuracy: 50.7100%\n",
            "{'im_res_orig': 16, 'im_res_new': 27, 'layer1_old': [5, 30, 1, 1], 'layer2_old': [5, 15, 1, 2], 'layer1': [5.0, 30, 2, 2], 'layer2': [5.0, 15, 1, 2], 'new_solutions': [(999500.0, 20750.0, 0.5071)]} \n",
            "\n",
            "Files already downloaded and verified\n",
            "Files already downloaded and verified\n",
            "[INFO] Register count_convNd() for <class 'torch.nn.modules.conv.Conv2d'>.\n",
            "\u001b[91m[WARN] Cannot find rule for <class 'torch.nn.modules.dropout.Dropout2d'>. Treat it as zero Macs and zero Params.\u001b[00m\n",
            "[INFO] Register count_linear() for <class 'torch.nn.modules.linear.Linear'>.\n",
            "\u001b[91m[WARN] Cannot find rule for <class '__main__.NetTest'>. Treat it as zero Macs and zero Params.\u001b[00m\n",
            " Train Epoch: 10/10 [40100/50000 (80%)]\tLoss: 1.532161Test Accuracy: 0.520700 %\n",
            " Train Epoch: 10/10 [50000/50000 (100%)]\tLoss: 1.454205\t Test Accuracy: 52.0700%\n",
            "{'im_res_orig': 16, 'im_res_new': 29, 'layer1_old': [5, 30, 1, 1], 'layer2_old': [5, 15, 1, 2], 'layer1': [5.0, 30, 2, 1], 'layer2': [5.0, 15, 1, 2], 'new_solutions': [(999500.0, 20750.0, 0.5207)]} \n",
            "\n",
            "\n",
            " --------------------- solution no 1 -------------------- \n",
            "\n",
            "Files already downloaded and verified\n",
            "Files already downloaded and verified\n",
            "[INFO] Register count_convNd() for <class 'torch.nn.modules.conv.Conv2d'>.\n",
            "\u001b[91m[WARN] Cannot find rule for <class 'torch.nn.modules.dropout.Dropout2d'>. Treat it as zero Macs and zero Params.\u001b[00m\n",
            "[INFO] Register count_linear() for <class 'torch.nn.modules.linear.Linear'>.\n",
            "\u001b[91m[WARN] Cannot find rule for <class '__main__.NetTest'>. Treat it as zero Macs and zero Params.\u001b[00m\n",
            " Train Epoch: 10/10 [40100/50000 (80%)]\tLoss: 1.628757Test Accuracy: 0.469800 %\n",
            " Train Epoch: 10/10 [50000/50000 (100%)]\tLoss: 1.673953\t Test Accuracy: 46.9800%\n",
            "{'im_res_orig': 16, 'im_res_new': 25, 'layer1_old': [7, 10, 1, 2], 'layer2_old': [5, 10, 1, 4], 'layer1': [7.0, 10, 2, 4], 'layer2': [5.0, 10, 1, 4], 'orig_solutions': [(603620.0, 16970.0, 0.4698)]} \n",
            "\n",
            "Files already downloaded and verified\n",
            "Files already downloaded and verified\n",
            "[INFO] Register count_convNd() for <class 'torch.nn.modules.conv.Conv2d'>.\n",
            "\u001b[91m[WARN] Cannot find rule for <class 'torch.nn.modules.dropout.Dropout2d'>. Treat it as zero Macs and zero Params.\u001b[00m\n",
            "[INFO] Register count_linear() for <class 'torch.nn.modules.linear.Linear'>.\n",
            "\u001b[91m[WARN] Cannot find rule for <class '__main__.NetTest'>. Treat it as zero Macs and zero Params.\u001b[00m\n",
            " Train Epoch: 10/10 [40100/50000 (80%)]\tLoss: 1.633104Test Accuracy: 0.488300 %\n",
            " Train Epoch: 10/10 [50000/50000 (100%)]\tLoss: 1.572237\t Test Accuracy: 48.8300%\n",
            "{'im_res_orig': 16, 'im_res_new': 25, 'layer1_old': [7, 10, 1, 2], 'layer2_old': [5, 10, 1, 4], 'layer1': [7.0, 10, 2, 4], 'layer2': [5.0, 10, 1, 4], 'orig_solutions': [(603620.0, 16970.0, 0.4698)], 'new_solutions': [(603620.0, 16970.0, 0.4883)]} \n",
            "\n",
            "Files already downloaded and verified\n",
            "Files already downloaded and verified\n",
            "[INFO] Register count_convNd() for <class 'torch.nn.modules.conv.Conv2d'>.\n",
            "\u001b[91m[WARN] Cannot find rule for <class 'torch.nn.modules.dropout.Dropout2d'>. Treat it as zero Macs and zero Params.\u001b[00m\n",
            "[INFO] Register count_linear() for <class 'torch.nn.modules.linear.Linear'>.\n",
            "\u001b[91m[WARN] Cannot find rule for <class '__main__.NetTest'>. Treat it as zero Macs and zero Params.\u001b[00m\n",
            " Train Epoch: 10/10 [40100/50000 (80%)]\tLoss: 1.734013Test Accuracy: 0.490500 %\n",
            " Train Epoch: 10/10 [50000/50000 (100%)]\tLoss: 1.463428\t Test Accuracy: 49.0500%\n",
            "{'im_res_orig': 16, 'im_res_new': 27, 'layer1_old': [7, 10, 1, 2], 'layer2_old': [5, 10, 1, 4], 'layer1': [7.0, 10, 2, 3], 'layer2': [5.0, 10, 1, 4], 'new_solutions': [(603620.0, 16970.0, 0.4905)]} \n",
            "\n",
            "Files already downloaded and verified\n",
            "Files already downloaded and verified\n",
            "[INFO] Register count_convNd() for <class 'torch.nn.modules.conv.Conv2d'>.\n",
            "\u001b[91m[WARN] Cannot find rule for <class 'torch.nn.modules.dropout.Dropout2d'>. Treat it as zero Macs and zero Params.\u001b[00m\n",
            "[INFO] Register count_linear() for <class 'torch.nn.modules.linear.Linear'>.\n",
            "\u001b[91m[WARN] Cannot find rule for <class '__main__.NetTest'>. Treat it as zero Macs and zero Params.\u001b[00m\n",
            " Train Epoch: 10/10 [40100/50000 (80%)]\tLoss: 1.544267Test Accuracy: 0.493100 %\n",
            " Train Epoch: 10/10 [50000/50000 (100%)]\tLoss: 1.670748\t Test Accuracy: 49.3100%\n",
            "{'im_res_orig': 16, 'im_res_new': 29, 'layer1_old': [7, 10, 1, 2], 'layer2_old': [5, 10, 1, 4], 'layer1': [7.0, 10, 2, 2], 'layer2': [5.0, 10, 1, 4], 'new_solutions': [(603620.0, 16970.0, 0.4931)]} \n",
            "\n",
            "\n",
            " --------------------- solution no 2 -------------------- \n",
            "\n",
            "Files already downloaded and verified\n",
            "Files already downloaded and verified\n",
            "[INFO] Register count_convNd() for <class 'torch.nn.modules.conv.Conv2d'>.\n",
            "\u001b[91m[WARN] Cannot find rule for <class 'torch.nn.modules.dropout.Dropout2d'>. Treat it as zero Macs and zero Params.\u001b[00m\n",
            "[INFO] Register count_linear() for <class 'torch.nn.modules.linear.Linear'>.\n",
            "\u001b[91m[WARN] Cannot find rule for <class '__main__.NetTest'>. Treat it as zero Macs and zero Params.\u001b[00m\n",
            " Train Epoch: 10/10 [40100/50000 (80%)]\tLoss: 1.511435Test Accuracy: 0.479100 %\n",
            " Train Epoch: 10/10 [50000/50000 (100%)]\tLoss: 1.623793\t Test Accuracy: 47.9100%\n",
            "{'im_res_orig': 16, 'im_res_new': 25, 'layer1_old': [7, 30, 1, 2], 'layer2_old': [5, 10, 1, 4], 'layer1': [7.0, 30, 2, 4], 'layer2': [5.0, 10, 1, 4], 'orig_solutions': [(1784860.0, 24910.0, 0.4791)]} \n",
            "\n",
            "Files already downloaded and verified\n",
            "Files already downloaded and verified\n",
            "[INFO] Register count_convNd() for <class 'torch.nn.modules.conv.Conv2d'>.\n",
            "\u001b[91m[WARN] Cannot find rule for <class 'torch.nn.modules.dropout.Dropout2d'>. Treat it as zero Macs and zero Params.\u001b[00m\n",
            "[INFO] Register count_linear() for <class 'torch.nn.modules.linear.Linear'>.\n",
            "\u001b[91m[WARN] Cannot find rule for <class '__main__.NetTest'>. Treat it as zero Macs and zero Params.\u001b[00m\n",
            " Train Epoch: 10/10 [40100/50000 (80%)]\tLoss: 1.448833Test Accuracy: 0.502500 %\n",
            " Train Epoch: 10/10 [50000/50000 (100%)]\tLoss: 1.598162\t Test Accuracy: 50.2500%\n",
            "{'im_res_orig': 16, 'im_res_new': 25, 'layer1_old': [7, 30, 1, 2], 'layer2_old': [5, 10, 1, 4], 'layer1': [7.0, 30, 2, 4], 'layer2': [5.0, 10, 1, 4], 'orig_solutions': [(1784860.0, 24910.0, 0.4791)], 'new_solutions': [(1784860.0, 24910.0, 0.5025)]} \n",
            "\n",
            "Files already downloaded and verified\n",
            "Files already downloaded and verified\n",
            "[INFO] Register count_convNd() for <class 'torch.nn.modules.conv.Conv2d'>.\n",
            "\u001b[91m[WARN] Cannot find rule for <class 'torch.nn.modules.dropout.Dropout2d'>. Treat it as zero Macs and zero Params.\u001b[00m\n",
            "[INFO] Register count_linear() for <class 'torch.nn.modules.linear.Linear'>.\n",
            "\u001b[91m[WARN] Cannot find rule for <class '__main__.NetTest'>. Treat it as zero Macs and zero Params.\u001b[00m\n",
            " Train Epoch: 10/10 [40100/50000 (80%)]\tLoss: 1.455741Test Accuracy: 0.511800 %\n",
            " Train Epoch: 10/10 [50000/50000 (100%)]\tLoss: 1.532767\t Test Accuracy: 51.1800%\n",
            "{'im_res_orig': 16, 'im_res_new': 27, 'layer1_old': [7, 30, 1, 2], 'layer2_old': [5, 10, 1, 4], 'layer1': [7.0, 30, 2, 3], 'layer2': [5.0, 10, 1, 4], 'new_solutions': [(1784860.0, 24910.0, 0.5118)]} \n",
            "\n",
            "Files already downloaded and verified\n",
            "Files already downloaded and verified\n",
            "[INFO] Register count_convNd() for <class 'torch.nn.modules.conv.Conv2d'>.\n",
            "\u001b[91m[WARN] Cannot find rule for <class 'torch.nn.modules.dropout.Dropout2d'>. Treat it as zero Macs and zero Params.\u001b[00m\n",
            "[INFO] Register count_linear() for <class 'torch.nn.modules.linear.Linear'>.\n",
            "\u001b[91m[WARN] Cannot find rule for <class '__main__.NetTest'>. Treat it as zero Macs and zero Params.\u001b[00m\n",
            " Train Epoch: 3/10 [30100/50000 (60%)]\tLoss: 1.813700"
          ],
          "name": "stdout"
        }
      ]
    },
    {
      "cell_type": "code",
      "metadata": {
        "colab": {
          "base_uri": "https://localhost:8080/"
        },
        "id": "9zQQFZzZAnz1",
        "outputId": "5e23a340-d534-4ad3-edc2-ec3b221abe3a"
      },
      "source": [
        "lens = ([len(x) for x in all_solutions])\n",
        "lens.sort()\n",
        "lens\n",
        "np.max(lens)\n",
        "\n",
        "all_solutions[0]\n",
        "\n",
        "\n",
        "\n",
        "# all_res[N1]"
      ],
      "execution_count": null,
      "outputs": [
        {
          "output_type": "execute_result",
          "data": {
            "text/plain": [
              "[{'im_res_new': 29,\n",
              "  'im_res_orig': 16,\n",
              "  'layer1': [7.0, 30, 2, 4],\n",
              "  'layer1_old': [7, 30, 1, 3],\n",
              "  'layer2': [3.0, 10, 1, 0],\n",
              "  'layer2_old': [3, 10, 1, 0],\n",
              "  'orig_solutions': []},\n",
              " {'im_res_new': 31,\n",
              "  'im_res_orig': 16,\n",
              "  'layer1': [7.0, 30, 2, 3],\n",
              "  'layer1_old': [7, 30, 1, 3],\n",
              "  'layer2': [3.0, 10, 1, 0],\n",
              "  'layer2_old': [3, 10, 1, 0]}]"
            ]
          },
          "metadata": {
            "tags": []
          },
          "execution_count": 56
        }
      ]
    },
    {
      "cell_type": "code",
      "metadata": {
        "colab": {
          "base_uri": "https://localhost:8080/",
          "height": 267
        },
        "id": "x8U-8XrLKrgV",
        "outputId": "9685d4f8-2873-46d6-fa9d-d5c0ce2740f5"
      },
      "source": [
        "for k in all_res.keys():\n",
        "  means = np.mean(np.array([(x[-1],np.max(y)) for x,y in all_res[k]]), axis=0)\n",
        "  # stds = np.std(np.array([(x[0][-1],np.max(y)) for x,y in all_res[k] ]), axis=0)\n",
        "  plt.plot(means)"
      ],
      "execution_count": null,
      "outputs": [
        {
          "output_type": "display_data",
          "data": {
            "image/png": "[encoded data removed]",
            "text/plain": [
              "<Figure size 432x288 with 1 Axes>"
            ]
          },
          "metadata": {
            "tags": [],
            "needs_background": "light"
          }
        }
      ]
    },
    {
      "cell_type": "code",
      "metadata": {
        "colab": {
          "base_uri": "https://localhost:8080/"
        },
        "id": "iVKpqr7n6h0B",
        "outputId": "d1b0f226-c21f-465b-be0d-27888d059501"
      },
      "source": [
        "means"
      ],
      "execution_count": null,
      "outputs": [
        {
          "output_type": "execute_result",
          "data": {
            "text/plain": [
              "array([0.94651, 0.95756])"
            ]
          },
          "metadata": {
            "tags": []
          },
          "execution_count": 64
        }
      ]
    },
    {
      "cell_type": "code",
      "metadata": {
        "id": "zxHleTnpacj_"
      },
      "source": [
        "for k in all_res.keys():\n",
        "  means = np.mean(np.array([(x[0][-1],y) for x,y in all_res[k] ]), axis=0)\n",
        "  stds = np.std(np.array([(x[0][-1],y) for x,y in all_res[k] ]), axis=0)\n",
        "  plt.plot(means)\n"
      ],
      "execution_count": null,
      "outputs": []
    },
    {
      "cell_type": "code",
      "metadata": {
        "id": "xvJH19_TC3sO"
      },
      "source": [
        "sol_3"
      ],
      "execution_count": null,
      "outputs": []
    },
    {
      "cell_type": "code",
      "metadata": {
        "id": "vQHMz9pRjGcr"
      },
      "source": [
        "# FLOPS\n",
        "# http://www.bnikolic.co.uk/blog/python/flops/2019/10/01/pytorch-count-flops.html"
      ],
      "execution_count": null,
      "outputs": []
    },
    {
      "cell_type": "markdown",
      "metadata": {
        "id": "BEym_vLOgEp5"
      },
      "source": [
        ""
      ]
    },
    {
      "cell_type": "code",
      "metadata": {
        "id": "3ahq_bgDgEp5"
      },
      "source": [
        "aa = {2:'a'}"
      ],
      "execution_count": null,
      "outputs": []
    },
    {
      "cell_type": "code",
      "metadata": {
        "id": "tJBPTzm-kejx"
      },
      "source": [
        "from matplotlib import pyplot as plt"
      ],
      "execution_count": null,
      "outputs": []
    },
    {
      "cell_type": "code",
      "metadata": {
        "id": "WwpWkGRZlWsO"
      },
      "source": [
        "colors = ['blue', 'red', 'green', ]\n",
        "for idx,i in enumerate([7,14,28]):\n",
        "  plt.plot(np.log(pars[ress==i]), score[ress==i] , 'o', color = colors[idx])\n",
        "\n",
        "plt.legend(['res = 7', 'res = 14', 'res = 28'])"
      ],
      "execution_count": null,
      "outputs": []
    },
    {
      "cell_type": "code",
      "metadata": {
        "id": "MjPLszlGlaY4"
      },
      "source": [
        "colors = ['blue', 'red', 'green', ]\n",
        "for idx,i in enumerate([7,14,28]):\n",
        "  plt.plot(np.log(flops[ress==i]), score[ress==i] , 'o', color = colors[idx])\n",
        "\n",
        "plt.legend(['res = 7', 'res = 14', 'res = 28'])"
      ],
      "execution_count": null,
      "outputs": []
    },
    {
      "cell_type": "code",
      "metadata": {
        "id": "z9DPWCI0mq-r"
      },
      "source": [
        ""
      ],
      "execution_count": null,
      "outputs": []
    },
    {
      "cell_type": "code",
      "metadata": {
        "id": "5FqAhvbIobLN"
      },
      "source": [
        "from google.colab import drive\n",
        "drive.mount('/content/drive')"
      ],
      "execution_count": null,
      "outputs": []
    },
    {
      "cell_type": "code",
      "metadata": {
        "id": "YovErL0-oUEs"
      },
      "source": [
        "# ls MyDrive/"
      ],
      "execution_count": null,
      "outputs": []
    },
    {
      "cell_type": "code",
      "metadata": {
        "id": "-kmPE3U2of2t"
      },
      "source": [
        "cd drive/"
      ],
      "execution_count": null,
      "outputs": []
    },
    {
      "cell_type": "code",
      "metadata": {
        "id": "N15rtEEdolUm"
      },
      "source": [
        "# cd /MyDrive/classification_images/Pairwise\n",
        "!cd MyDrive/ClassificationImages/Pairwise/"
      ],
      "execution_count": null,
      "outputs": []
    },
    {
      "cell_type": "code",
      "metadata": {
        "id": "uG_7x65oonJS"
      },
      "source": [
        "# from google.colab import files\n",
        "# # \n",
        "# with open('example.txt', 'w') as f:\n",
        "#   f.write('some content')\n",
        "\n",
        "# files.download('example.txt')\n",
        "\n",
        "\n",
        "\n",
        "# with open('MyDrive/ClassificationImages/Pairwise/accs_mnist.npz', 'w') as f:\n",
        "np.savez('MyDrive/ClassificationImages/Pairwise/accs_fmnist.npz', accs)\n"
      ],
      "execution_count": null,
      "outputs": []
    },
    {
      "cell_type": "code",
      "metadata": {
        "id": "GNss-tWspL-P"
      },
      "source": [
        "# with open('MyDrive/ClassificationImages/Pairwise/accs_mnist.npz') as f:\n",
        "dd = np.load('MyDrive/ClassificationImages/Pairwise/accs_mnist.npz')"
      ],
      "execution_count": null,
      "outputs": []
    },
    {
      "cell_type": "code",
      "metadata": {
        "id": "g07IsyKrqM7x"
      },
      "source": [
        "# accs = dd['arr_0']"
      ],
      "execution_count": null,
      "outputs": []
    },
    {
      "cell_type": "code",
      "metadata": {
        "id": "CIeLykpBqNQD"
      },
      "source": [
        "def test_f(aa):\n",
        "  aa.append(10)\n",
        "\n",
        "  return\n",
        "\n",
        "q = [1]\n",
        "test_f(q)\n",
        "print(q)\n"
      ],
      "execution_count": null,
      "outputs": []
    },
    {
      "cell_type": "code",
      "metadata": {
        "id": "qKYYYozCrES4"
      },
      "source": [
        ""
      ],
      "execution_count": null,
      "outputs": []
    }
  ]
}