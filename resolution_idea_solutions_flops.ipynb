{
  "nbformat": 4,
  "nbformat_minor": 0,
  "metadata": {
    "colab": {
      "name": "resolution_idea_solutions_flops.ipynb",
      "provenance": [],
      "collapsed_sections": []
    },
    "kernelspec": {
      "display_name": "Python 3",
      "language": "python",
      "name": "python3"
    },
    "language_info": {
      "codemirror_mode": {
        "name": "ipython",
        "version": 3
      },
      "file_extension": ".py",
      "mimetype": "text/x-python",
      "name": "python",
      "nbconvert_exporter": "python",
      "pygments_lexer": "ipython3",
      "version": "3.7.3"
    },
    "accelerator": "GPU"
  },
  "cells": [
    {
      "cell_type": "code",
      "metadata": {
        "colab": {
          "base_uri": "https://localhost:8080/"
        },
        "id": "-Fw-gSFYIbdu",
        "outputId": "704c852b-ec98-48b1-fe9b-ebbfe16c0537"
      },
      "source": [
        "%matplotlib inline\n",
        "!pip install thop\n",
        "\n",
        "from __future__ import print_function\n",
        "import torch\n",
        "import torch.nn as nn\n",
        "import torch.nn.functional as F\n",
        "import torch.optim as optim\n",
        "from torchvision import datasets, transforms\n",
        "import numpy as np\n",
        "import matplotlib.pyplot as plt\n",
        "from thop import profile\n",
        "from torchsummary import summary\n"
      ],
      "execution_count": 13,
      "outputs": [
        {
          "output_type": "stream",
          "text": [
            "Requirement already satisfied: thop in /usr/local/lib/python3.6/dist-packages (0.0.31.post2005241907)\n",
            "Requirement already satisfied: torch>=1.0.0 in /usr/local/lib/python3.6/dist-packages (from thop) (1.7.0+cu101)\n",
            "Requirement already satisfied: numpy in /usr/local/lib/python3.6/dist-packages (from torch>=1.0.0->thop) (1.19.5)\n",
            "Requirement already satisfied: typing-extensions in /usr/local/lib/python3.6/dist-packages (from torch>=1.0.0->thop) (3.7.4.3)\n",
            "Requirement already satisfied: future in /usr/local/lib/python3.6/dist-packages (from torch>=1.0.0->thop) (0.16.0)\n",
            "Requirement already satisfied: dataclasses in /usr/local/lib/python3.6/dist-packages (from torch>=1.0.0->thop) (0.8)\n"
          ],
          "name": "stdout"
        }
      ]
    },
    {
      "cell_type": "code",
      "metadata": {
        "id": "Sdvrr4ryQ2Eb"
      },
      "source": [
        "torch.manual_seed(120)\n"
      ],
      "execution_count": null,
      "outputs": []
    },
    {
      "cell_type": "markdown",
      "metadata": {
        "id": "y9c5QX7BgEp4"
      },
      "source": [
        "# training a model first"
      ]
    },
    {
      "cell_type": "code",
      "metadata": {
        "id": "FN6ifgYqgEp4"
      },
      "source": [
        "use_cuda = True\n",
        "\n",
        "NUM_RUNS = 3\n",
        "EPOCHS = 10\n"
      ],
      "execution_count": 14,
      "outputs": []
    },
    {
      "cell_type": "code",
      "metadata": {
        "colab": {
          "base_uri": "https://localhost:8080/"
        },
        "id": "nT9LC5-AoseA",
        "outputId": "5823f8a3-004a-4c87-bb54-4605c1f2b02f"
      },
      "source": [
        "list(range(5,0,-1))"
      ],
      "execution_count": 15,
      "outputs": [
        {
          "output_type": "execute_result",
          "data": {
            "text/plain": [
              "[5, 4, 3, 2, 1]"
            ]
          },
          "metadata": {
            "tags": []
          },
          "execution_count": 15
        }
      ]
    },
    {
      "cell_type": "code",
      "metadata": {
        "id": "rr39Ia68tUnF"
      },
      "source": [
        "def find_res_fixed_flops(N1,      C1, K1, P1, S1,     C2, K2, P2, S2, img_channels):\n",
        "  '''\n",
        "    Keeping FLOPS the same\n",
        "    Approach III in the paper\n",
        "  '''\n",
        "\n",
        "  k_p = 2 # pooling layer kernel size\n",
        "\n",
        "\n",
        "  # model_old = NetTest(im_res=N1, conv1_size=C1, conv2_size=C2, num_conv1=K1, num_conv2=K2, padd_1=P1, padd_2=P2, stride_1=S1, stride_2=S2).to(device)\n",
        "  # macs_old, params_old = profile(model_old, inputs=(torch.randn(1, 1, N1, N1).to(device), ))\n",
        "\n",
        "\n",
        "\n",
        "  Solutions = []\n",
        "\n",
        "  # import pdb; pdb.set_trace()\n",
        "  M1 = int((N1 - C1 + 2*P1)/S1 + 1) # res after first layer\t\n",
        "  M1_p = int((M1 - k_p + 2*0)/k_p + 1) # res after first pooling layer\t\n",
        "  M2  = int((M1_p  -  C2 + 2*P2)  / S2 + 1)\n",
        "\n",
        "  for nN1 in np.arange(N1+1,29):\n",
        "    for nC1 in np.arange(C1,6):#nN1//2): #3,8,2):#C1+1,nN1//2): # filter size new layer 1\t\n",
        "      for nP1 in range(4): #nC1//2):\n",
        "        for nS1 in range(1,4):\n",
        "          nM1 = int((nN1 - nC1 + 2*nP1)/nS1 + 1) # resolution after conv1\n",
        "          nM1_p = int((nM1 - k_p + 2*0)/k_p + 1) # resolution after pool1 \n",
        "          # if nM1 != M1: continue\n",
        "                \n",
        "          for nK1 in np.arange(K1-1,2,-1): # num filters new layer 1\n",
        "            # if (nC1**2) * nK1 != (C1**2) * K1: continue\n",
        "            \n",
        "            for nC2 in np.arange(3,6,2):#nM1//2): # filter size second conv layer\t\t \n",
        "              # if (nC2**2) * nK1 != (C2**2) * K1: continue \n",
        "        \n",
        "              # 2nd layer\n",
        "              for nP2 in np.arange(4): # padding new layer 2\n",
        "                for nS2 in np.arange(1,4): # stride new layer 2\n",
        "                  nM2 = int((nM1_p - nC2 + 2*nP2)  / nS2 + 1)\n",
        "\n",
        "                  if nM2  != M2 : continue\n",
        "                  # M3 = int( (nM1 - B1 + 2*Q2)  / R2 + 1)\n",
        "\n",
        "                  # FLOPS_old = (K1 * M1**2 * (img_channels * C1**2 )) + (K2 * M2**2 * (K1 * C2**2 ))\n",
        "                  # FLOPS_new = (nK1 * nM1**2 * (img_channels * nC1**2 )) + (K2 * M2**2 * (nK1 * nC2**2  ))\n",
        "\n",
        "\n",
        "\n",
        "                  # discard if the oiginal model is too off from the new model in terms of the number of filters\n",
        "                  if np.abs(N1 - nN1) > \n",
        "\n",
        "\n",
        "                  # import pdb; pdb.set_trace()\n",
        "                  FLOPS_old = (K1 * M1**2 * (img_channels * C1**2 )) + (K2 * M2**2 * (K1 * C2**2 ))\n",
        "                  FLOPS_new = (nK1 * nM1**2 * (img_channels * nC1**2 )) + (K2 * M2**2 * (nK1 * nC2**2  ))\n",
        "\n",
        "                  # build a model and compute its MACs directly\n",
        "\n",
        "                  # model_new = NetTest(im_res=nN1, conv1_size=nC1, conv2_size=nC2, num_conv1=nK1, num_conv2=K2, padd_1=nP1, padd_2=nP2, stride_1=nS1, stride_2=nS2).to(device)\n",
        "                  # macs_new, params_new = profile(model_new, inputs=(torch.randn(1, 1,nN1, nN1).to(device), ))\n",
        "\n",
        "                  # print(f'FLOPS old: {FLOPS_old}, FLOPS new: {FLOPS_new}\\n')\n",
        "\n",
        "                  if FLOPS_old==FLOPS_new:\n",
        "                  # if macs_new==macs_old:\n",
        "                    Solutions.append({'im_res_orig':N1, 'im_res_new':nN1, 'layer1_old':[C1, K1, P1, S1], 'layer2_old':[C2, K2, P2, S2], 'layer1':[nC1, nK1, nP1, nS1], 'layer2':[nC2, K2, nP2, nS2]})\n",
        "                # Solutions.append({'im_res_orig':N1, 'im_res_new':N2, 'layer1_old':[C1, Z1, P1, S1], 'layer2_old':[B1, ?, Q1, R1], 'layer1':[C2, Z2, P2, S2], 'layer2':[B2, ?, Q2, R2]})\n",
        "\n",
        "  return Solutions\n",
        "\n"
      ],
      "execution_count": 16,
      "outputs": []
    },
    {
      "cell_type": "code",
      "metadata": {
        "id": "FcEaJXHJtcNJ"
      },
      "source": [
        ""
      ],
      "execution_count": 16,
      "outputs": []
    },
    {
      "cell_type": "code",
      "metadata": {
        "id": "EDttasGMlZ02"
      },
      "source": [
        "from keras.preprocessing.image import img_to_array\n",
        "from keras.preprocessing.image import array_to_img\n",
        "\n",
        "\n",
        "class NetTest(nn.Module):\n",
        "    def __init__(self, im_res=28, conv1_size=5, conv2_size=3, pool1_size=2, pool2_size=2, num_conv1=10, num_conv2=10, stride_1=1, stride_2=1, padd_1=0, padd_2=0, num_hid=50):\n",
        "        super(NetTest, self).__init__()\n",
        "        # import pdb; pdb.set_trace()\n",
        "        self.conv1 = nn.Conv2d(1, num_conv1, kernel_size=conv1_size, stride=stride_1, padding=padd_1, bias=False)\n",
        "        self.res_conv1 = int((im_res - conv1_size + 2*padd_1) / stride_1 + 1)\n",
        "        self.res_pool1 = int((self.res_conv1 - pool1_size + 2*0) / pool1_size + 1)                \n",
        "\n",
        "        self.conv2 = nn.Conv2d(num_conv1, num_conv2, kernel_size=conv2_size, stride=stride_2, padding=padd_2, bias=False)\n",
        "        \n",
        "        self.res_conv2 = int((self.res_pool1 - conv2_size + 2*padd_2) / stride_2 + 1 )       \n",
        "        self.res_pool2 = int((self.res_conv2 - pool2_size + 2*0) / pool2_size + 1)               \n",
        "        \n",
        "        # self.conv2_drop = nn.Dropout2d()\n",
        "\n",
        "        self.fc1 = nn.Linear((self.res_pool2**2)*num_conv2, num_hid, bias=False)        \n",
        "        self.fc2 = nn.Linear(num_hid, 10, bias=False)\n",
        "        self.pool1_size = pool1_size\n",
        "        self.pool2_size = pool2_size\n",
        "        self.num_conv2 = num_conv2\n",
        "        self.im_res = im_res\n",
        "\n",
        "\n",
        "        \n",
        "    def forward(self, x):\n",
        "        # import pdb; pdb.set_trace()\n",
        "\n",
        "        tmp1 = F.relu(F.max_pool2d(self.conv1(x), self.pool1_size))\n",
        "        # tmp = F.relu(F.max_pool2d(self.conv2_drop(self.conv2(tmp1)), self.pool2_size))\n",
        "        tmp = F.relu(F.max_pool2d(self.conv2(tmp1), self.pool2_size))\n",
        "        # x = F.avg_pool2d(tmp, kernel_size=tmp.shape[-1])\n",
        "        # x = x[:,:,0,0]\n",
        "\n",
        "        x = tmp.view(-1, (self.res_pool2**2)*self.num_conv2)\n",
        "        x = F.relu(self.fc1(x))\n",
        "        x = F.dropout(x, training=self.training)\n",
        "        x = self.fc2(x)\n",
        "        return x   ### SUPER IMPORTANT ***************************** works with cross entropy loss loss now\n",
        "\n",
        "device = 'cuda' if torch.cuda.is_available() else 'cpu'\n",
        "\n",
        "# class NetTest(nn.Module):\n",
        "#     def __init__(self, im_res=28, conv1_size=5, conv2_size=5, pool1_size=2, pool2_size=2, num_conv1=10, num_conv2=10, stride_1=1, stride_2=1, padd_1=0, padd_2=0, num_hid=50):\n",
        "#         super(NetTest, self).__init__()\n",
        "#         # import pdb; pdb.set_trace()\n",
        "#         self.conv1 = nn.Conv2d(1, num_conv1, kernel_size=conv1_size, stride=stride_1, padding=padd_1, bias=False)\n",
        "#         self.res1 = int((im_res - conv1_size + 2*padd_1) / stride_1 + 1)\n",
        "#         self.conv2 = nn.Conv2d(num_conv1, num_conv2, kernel_size=conv2_size, stride=stride_2, padding=padd_2, bias=False)\n",
        "#         self.res2_pool = int((self.res1 - pool1_size + 2*0) / pool1_size + 1)                \n",
        "#         self.res2_conv = int((self.res2_pool - conv2_size + 2*padd_2) / stride_2 + 1 )       \n",
        "#         self.res2_pool = int((self.res2_conv - pool2_size + 2*0) / pool2_size + 1)               \n",
        "#         self.conv2_drop = nn.Dropout2d()\n",
        "\n",
        "#         self.fc1 = nn.Linear((self.res2_pool**2)*num_conv2, num_hid, bias=False)        \n",
        "#         self.fc2 = nn.Linear(num_hid, 10, bias=False)\n",
        "#         self.pool1_size = pool1_size\n",
        "#         self.pool2_size = pool2_size\n",
        "#         self.num_conv2 = num_conv2\n",
        "#         self.im_res = im_res\n",
        "\n",
        "        \n",
        "#     def forward(self, x):\n",
        "#         # import pdb; pdb.set_trace()\n",
        "#         # x = F.avg_pool2d(x, kernel_size=28//self.im_res)\n",
        "#         # x = F.avg_pool2d(x, kernel_size=2, padding=6, stride=2)\n",
        "#         # x = cv2.resize(x, (self.im_res, self.im_res)) \n",
        "\n",
        "#         # xx = torch.stack((x[0,0],x[0,0], x[0,0]), axis=2)\n",
        "#         # img_pil = array_to_img(xx.cpu())\n",
        "#         # img_pil = img_pil.resize((self.im_res,self.im_res))\n",
        "#         # x = torch.tensor(img_to_array(img_pil)).cuda()\n",
        "#         # x = x[:,:,0][None,None] #.permute(2,0,1)\n",
        "\n",
        "#         tmp1 = F.relu(F.max_pool2d(self.conv1(x), self.pool1_size))\n",
        "#         tmp = F.relu(F.max_pool2d(self.conv2_drop(self.conv2(tmp1)), self.pool2_size))\n",
        "#         # x = F.avg_pool2d(tmp, kernel_size=tmp.shape[-1])\n",
        "#         # x = x[:,:,0,0]\n",
        "\n",
        "#         x = tmp.view(-1, (self.res2_pool**2)*self.num_conv2)\n",
        "#         x = F.relu(self.fc1(x))\n",
        "#         x = F.dropout(x, training=self.training)\n",
        "#         x = self.fc2(x)\n",
        "#         return x   ### SUPER IMPORTANT ***************************** works with cross entropy loss loss now\n",
        "\n",
        "# device = 'cuda'"
      ],
      "execution_count": 17,
      "outputs": []
    },
    {
      "cell_type": "code",
      "metadata": {
        "id": "NINTmFMRDpeM"
      },
      "source": [
        "# c = 6\n",
        "# p = 3\n",
        "# s = 2\n",
        "# assert 20 == (28 - c + 2*p) / s + 1, False\n",
        "# 19 = 22 + 2*6 \n",
        "# import cv2\n"
      ],
      "execution_count": 18,
      "outputs": []
    },
    {
      "cell_type": "code",
      "metadata": {
        "id": "3CGZ2JLFzdgA"
      },
      "source": [
        "def train_model(model):\n",
        "\n",
        "  # EPOCHS = 10\n",
        "  losses = []\n",
        "\n",
        "  optimizer = optim.Adadelta(model.parameters())\n",
        "\n",
        "  model.train()\n",
        "  for epoch in range(EPOCHS):\n",
        "      for batch_idx, (data, target) in enumerate(train_loader):\n",
        "          \n",
        "          data, target = data.to(device), target.to(device)        \n",
        "          optimizer.zero_grad()\n",
        "          y_pred = model(data) \n",
        "\n",
        "          # import pdb; pdb.set_trace()\n",
        "          loss = F.cross_entropy(y_pred, target)\n",
        "          losses.append(loss.cpu().data)\n",
        "\n",
        "          loss.backward()\n",
        "          optimizer.step()\n",
        "          \n",
        "          # Display\n",
        "          if batch_idx % 100 == 1:\n",
        "              print('\\r Train Epoch: {}/{} [{}/{} ({:.0f}%)]\\tLoss: {:.6f}'.format(\n",
        "                  epoch+1,\n",
        "                  EPOCHS,\n",
        "                  batch_idx * len(data), \n",
        "                  len(train_loader.dataset),\n",
        "                  100. * batch_idx / len(train_loader), \n",
        "                  loss.cpu().data), \n",
        "                  end='')\n",
        "\n",
        "  # Eval\n",
        "  # model.eval()\n",
        "  # Eval\n",
        "  model.eval()\n",
        "  correct = total = 0\n",
        "  for idx, (images, labels) in enumerate(test_loader):\n",
        "      images, labels = images.to(device), labels.to(device)\n",
        "\n",
        "      outputs = model(images)\n",
        "      _, pre = torch.max(outputs.data, 1)\n",
        "\n",
        "      total += len(labels)\n",
        "      correct += (pre == labels).sum()\n",
        "\n",
        "  accuracy = float(correct) / total\n",
        "  print('Test Accuracy: %f %%' % accuracy)\n",
        "  # return acc\n",
        "\n",
        "\n",
        "  # import pdb; pdb.set_trace()\n",
        "  # evaluate_x = test_loader.dataset.test_data.type_as(torch.FloatTensor()).to(device)\n",
        "  # evaluate_y = test_loader.dataset.test_labels.to(device)\n",
        "\n",
        "  # output = model(evaluate_x[:,None,...])\n",
        "  # pred = output.data.max(1)[1]\n",
        "  # d = pred.eq(evaluate_y.data).cpu()\n",
        "  # accuracy = d.sum().type(dtype=torch.float64)/d.size()[0]\n",
        "  \n",
        "  print('\\r Train Epoch: {}/{} [{}/{} ({:.0f}%)]\\tLoss: {:.6f}\\t Test Accuracy: {:.4f}%'.format(\n",
        "      epoch+1,\n",
        "      EPOCHS,\n",
        "      len(train_loader.dataset), \n",
        "      len(train_loader.dataset),\n",
        "      100. * batch_idx / len(train_loader), \n",
        "      loss.cpu().data,\n",
        "      accuracy*100,\n",
        "      end=''))\n",
        "  \n",
        "\n",
        "  return accuracy"
      ],
      "execution_count": 19,
      "outputs": []
    },
    {
      "cell_type": "code",
      "metadata": {
        "id": "wdlukGiltyP5"
      },
      "source": [
        "# sol_3"
      ],
      "execution_count": 20,
      "outputs": []
    },
    {
      "cell_type": "code",
      "metadata": {
        "id": "-Saj7rxrhL6Z"
      },
      "source": [
        ""
      ],
      "execution_count": 20,
      "outputs": []
    },
    {
      "cell_type": "code",
      "metadata": {
        "id": "vIedXhFbNK84"
      },
      "source": [
        "def evaluate_orig_model(sol):\n",
        "\n",
        "  # run the original model for a couple of times\n",
        "  # sol = sol_3[0]\n",
        "  sol['orig_solutions'] = []\n",
        "\n",
        "  im_res = sol['im_res_orig']\n",
        "  cv1_size = int(sol['layer1_old'][0])\n",
        "  cv2_size = int(sol['layer2_old'][0])\n",
        "  no_conv1 = sol['layer1_old'][1]\n",
        "  no_conv2 = sol['layer2_old'][1]\n",
        "  st1 = sol['layer1_old'][3]\n",
        "  st2 = sol['layer2_old'][3]\n",
        "  pd1 = sol['layer1_old'][2]\n",
        "  pd2 = sol['layer2_old'][2]\n",
        "\n",
        "  global train_loader\n",
        "  global test_loader\n",
        "  \n",
        "  train_loader = torch.utils.data.DataLoader(\n",
        "      datasets.FashionMNIST('../data', train=True, download=True, transform=transforms.Compose([\n",
        "              transforms.ToTensor(),transforms.Resize((im_res, im_res)),])), batch_size=100, shuffle=True)\n",
        "\n",
        "  test_loader = torch.utils.data.DataLoader(\n",
        "      datasets.FashionMNIST('../data', train=False, download=True, transform=transforms.Compose([\n",
        "              transforms.ToTensor(),transforms.Resize((im_res, im_res)),])), batch_size=100, shuffle=True)\n",
        "\n",
        "  # for run_no in range(1):\n",
        "  # try:\n",
        "    # print(f'----  im_res={im_res_new}, conv1_size={cv1_size}, conv2_size={cv2_size}')\n",
        "    # import pdb; pdb.set_trace()\n",
        "  accs = []\n",
        "  for i in range(NUM_RUNS):\n",
        "    model = NetTest(im_res=im_res, conv1_size=cv1_size, conv2_size=cv2_size, num_conv1=no_conv1, num_conv2=no_conv2, padd_1=pd1, padd_2=pd2, stride_1=st1, stride_2=st2).to(device)\n",
        "    if i==0:\n",
        "      macs, params = profile(model, inputs=(torch.randn(1, 1, im_res, im_res).to(device), ))\n",
        "    accs.append(train_model(model))\n",
        "  \n",
        "  sol['orig_solutions'].append((macs, params, np.mean(accs)))\n",
        "  # accuracies.append((sol, macs, params, acc))\n",
        "  # print(accuracies[-1])\n",
        "  print(sol, '\\n')\n",
        "\n",
        "  # except:\n",
        "  #   print('\\n Model invalid')\n",
        "\n",
        "\n",
        "  return #sol\n"
      ],
      "execution_count": 21,
      "outputs": []
    },
    {
      "cell_type": "code",
      "metadata": {
        "id": "chf2kB7wVinf"
      },
      "source": [
        "def evaluate_new_model(sols):\n",
        "  # running the solutions; one by one; three each\n",
        "  # for run_no\n",
        "\n",
        "  for sol in sols:\n",
        "        im_res = sol['im_res_new']\n",
        "        cv1_size = int(sol['layer1'][0])\n",
        "        cv2_size = int(sol['layer2'][0])\n",
        "        no_conv1 = sol['layer1'][1]\n",
        "        no_conv2 = sol['layer2'][1]\n",
        "        pd1 = sol['layer1'][2]\n",
        "        pd2 = sol['layer2'][2]\n",
        "        st1 = sol['layer1'][3]\n",
        "        st2 = sol['layer2'][3]\n",
        "\n",
        "        sol['new_solutions'] = []\n",
        "\n",
        "        global train_loader\n",
        "        global test_loader\n",
        "\n",
        "        train_loader = torch.utils.data.DataLoader(\n",
        "            datasets.FashionMNIST('../data', train=True, download=True, transform=transforms.Compose([\n",
        "                    transforms.ToTensor(),transforms.Resize((im_res, im_res)),])), batch_size=100, shuffle=True)\n",
        "\n",
        "        test_loader = torch.utils.data.DataLoader(\n",
        "            datasets.FashionMNIST('../data', train=False, download=True, transform=transforms.Compose([\n",
        "                    transforms.ToTensor(),transforms.Resize((im_res, im_res)),])), batch_size=100, shuffle=True)\n",
        "\n",
        "\n",
        "        # for run_no in range(1):\n",
        "        try:\n",
        "          # print(f'----  im_res={im_res_new}, conv1_size={cv1_size}, conv2_size={cv2_size}')\n",
        "          \n",
        "          accs = []\n",
        "          for i in range(NUM_RUNS):\n",
        "            model = NetTest(im_res=im_res, conv1_size=cv1_size, conv2_size=cv2_size, num_conv1=no_conv1, num_conv2=no_conv2, padd_1=pd1, padd_2=pd2, stride_1=st1, stride_2=st2).to(device)\n",
        "            if i==0:\n",
        "              macs, params = profile(model, inputs=(torch.randn(1, 1, im_res, im_res).to(device), ))\n",
        "            accs.append(train_model(model))\n",
        "          \n",
        "          # which_model = 'new_res' if a else 'orig_res'\n",
        "          # sol[which_model] = (macs, params, acc)\n",
        "          sol['new_solutions'].append((macs, params, np.mean(accs)))\n",
        "          # accuracies.append((sol, macs, params, acc))\n",
        "          # print(accuracies[-1])\n",
        "          print(sol, '\\n')\n",
        "\n",
        "        except:\n",
        "          print('\\n Model invalid')\n",
        "\n",
        "  \n",
        "  return #sols"
      ],
      "execution_count": 22,
      "outputs": []
    },
    {
      "cell_type": "code",
      "metadata": {
        "id": "o35rJcNMqkhN",
        "colab": {
          "base_uri": "https://localhost:8080/",
          "height": 34
        },
        "outputId": "c70579f7-1a22-4c9b-a8f4-d99d3636e78b"
      },
      "source": [
        "# np.arange(3,8,2)\n",
        "\n",
        "\n",
        "from IPython.display import HTML\n",
        "HTML('''<script>\n",
        "var code_show_err = false; \n",
        "var code_toggle_err = function() {\n",
        " var stderrNodes = document.querySelectorAll('[data-mime-type=\"application/vnd.jupyter.stderr\"]')\n",
        " var stderr = Array.from(stderrNodes)\n",
        " if (code_show_err){\n",
        "     stderr.forEach(ele => ele.style.display = 'block');\n",
        " } else {\n",
        "     stderr.forEach(ele => ele.style.display = 'none');\n",
        " }\n",
        " code_show_err = !code_show_err\n",
        "} \n",
        "document.addEventListener('DOMContentLoaded', code_toggle_err);\n",
        "</script>\n",
        "To toggle on/off output_stderr, click <a onclick=\"javascript:code_toggle_err()\">here</a>.''')"
      ],
      "execution_count": 23,
      "outputs": [
        {
          "output_type": "execute_result",
          "data": {
            "text/html": [
              "<script>\n",
              "var code_show_err = false; \n",
              "var code_toggle_err = function() {\n",
              " var stderrNodes = document.querySelectorAll('[data-mime-type=\"application/vnd.jupyter.stderr\"]')\n",
              " var stderr = Array.from(stderrNodes)\n",
              " if (code_show_err){\n",
              "     stderr.forEach(ele => ele.style.display = 'block');\n",
              " } else {\n",
              "     stderr.forEach(ele => ele.style.display = 'none');\n",
              " }\n",
              " code_show_err = !code_show_err\n",
              "} \n",
              "document.addEventListener('DOMContentLoaded', code_toggle_err);\n",
              "</script>\n",
              "To toggle on/off output_stderr, click <a onclick=\"javascript:code_toggle_err()\">here</a>."
            ],
            "text/plain": [
              "<IPython.core.display.HTML object>"
            ]
          },
          "metadata": {
            "tags": []
          },
          "execution_count": 23
        }
      ]
    },
    {
      "cell_type": "code",
      "metadata": {
        "colab": {
          "base_uri": "https://localhost:8080/"
        },
        "id": "FXpPn7xn2Mfv",
        "outputId": "4b17caa2-7203-4813-eccf-cb980170f958"
      },
      "source": [
        "import warnings\n",
        "warnings.filterwarnings(\"ignore\")\n",
        "\n",
        "import random \n",
        "all_res = {}\n",
        "\n",
        "\n",
        "for N1 in [16]:#12,16,20,24]:\n",
        "  all_solutions = []\n",
        "  for C1 in np.arange(3,6,2): # filter size layer 1 \n",
        "    for K1 in np.arange(10,21,5): # num filters layer 1   \n",
        "      for P1 in np.arange(2): # padding layer 1\n",
        "        for S1 in np.arange(1,2): # stride layer 1    \n",
        "          for C2 in np.arange(3,6,2): # filter size layer 2\n",
        "            for K2 in np.arange(10,21,5): # num filters layer 2   \n",
        "              for P2 in np.arange(2): # padding layer 2\n",
        "                for S2 in np.arange(1,2): # stride layer 2   \n",
        "                    xx = find_res_fixed_flops(N1, C1, K1, P1, S1,   C2, K2, P2, S2, 1)\n",
        "                    if xx:\n",
        "                      all_solutions.append(xx)\n",
        "  \n",
        "  print(len(all_solutions))\n",
        "  results = []\n",
        "  random.shuffle(all_solutions)\n",
        "  all_solutions.sort(key=len, reverse=True)\n",
        "  all_solutions = all_solutions[:10]\n",
        "  for idx, sol_3 in enumerate(all_solutions):\n",
        "    print(f'\\n --------------------- solution no {idx} -------------------- \\n')\n",
        "\n",
        "    if len(sol_3) > 4:\n",
        "      sol_3 = sol_3[-4:]\n",
        "\n",
        "    evaluate_orig_model(sol_3[0])\n",
        "    if not sol_3[0]['orig_solutions']:\n",
        "      break\n",
        "\n",
        "    evaluate_new_model(sol_3)\n",
        "    xx = (sol_3[0]['orig_solutions'][0], [sol['new_solutions'][0][-1] for sol in sol_3 if sol['new_solutions']])\n",
        "\n",
        "    results.append(xx)\n",
        "\n",
        "  all_res[N1] = results          \n"
      ],
      "execution_count": null,
      "outputs": [
        {
          "output_type": "stream",
          "text": [
            " Train Epoch: 10/10 [100/60000 (0%)]\tLoss: 0.858585\n",
            " Model invalid\n",
            "\n",
            " --------------------- solution no 2 -------------------- \n",
            "\n",
            "[INFO] Register count_convNd() for <class 'torch.nn.modules.conv.Conv2d'>.\n",
            "[INFO] Register count_linear() for <class 'torch.nn.modules.linear.Linear'>.\n",
            "\u001b[91m[WARN] Cannot find rule for <class '__main__.NetTest'>. Treat it as zero Macs and zero Params.\u001b[00m\n",
            " Train Epoch: 10/10 [50100/60000 (84%)]\tLoss: 0.207876Test Accuracy: 0.876900 %\n",
            " Train Epoch: 10/10 [60000/60000 (100%)]\tLoss: 0.301660\t Test Accuracy: 87.6900%\n",
            " Train Epoch: 10/10 [50100/60000 (84%)]\tLoss: 0.269761Test Accuracy: 0.874200 %\n",
            " Train Epoch: 10/10 [60000/60000 (100%)]\tLoss: 0.475185\t Test Accuracy: 87.4200%\n",
            " Train Epoch: 10/10 [50100/60000 (84%)]\tLoss: 0.321342Test Accuracy: 0.876600 %\n",
            " Train Epoch: 10/10 [60000/60000 (100%)]\tLoss: 0.526810\t Test Accuracy: 87.6600%\n",
            "{'im_res_orig': 16, 'im_res_new': 26, 'layer1_old': [3, 20, 1, 1], 'layer2_old': [5, 20, 0, 1], 'layer1': [4, 16, 1, 1], 'layer2': [3, 20, 0, 3], 'orig_solutions': [(210580.0, 14680.0, 0.8759)]} \n",
            "\n",
            "[INFO] Register count_convNd() for <class 'torch.nn.modules.conv.Conv2d'>.\n",
            "[INFO] Register count_linear() for <class 'torch.nn.modules.linear.Linear'>.\n",
            "\u001b[91m[WARN] Cannot find rule for <class '__main__.NetTest'>. Treat it as zero Macs and zero Params.\u001b[00m\n",
            " Train Epoch: 10/10 [50100/60000 (84%)]\tLoss: 0.380663Test Accuracy: 0.864500 %\n",
            " Train Epoch: 10/10 [60000/60000 (100%)]\tLoss: 0.511150\t Test Accuracy: 86.4500%\n",
            " Train Epoch: 10/10 [50100/60000 (84%)]\tLoss: 0.536311Test Accuracy: 0.861900 %\n",
            " Train Epoch: 10/10 [60000/60000 (100%)]\tLoss: 0.423965\t Test Accuracy: 86.1900%\n",
            " Train Epoch: 10/10 [50100/60000 (84%)]\tLoss: 0.529907Test Accuracy: 0.872800 %\n",
            " Train Epoch: 10/10 [60000/60000 (100%)]\tLoss: 0.377772\t Test Accuracy: 87.2800%\n",
            "{'im_res_orig': 16, 'im_res_new': 26, 'layer1_old': [3, 20, 1, 1], 'layer2_old': [5, 20, 0, 1], 'layer1': [4, 16, 1, 1], 'layer2': [3, 20, 0, 3], 'orig_solutions': [(210580.0, 14680.0, 0.8759)], 'new_solutions': [(210580.0, 7636.0, 0.8664)]} \n",
            "\n",
            "[INFO] Register count_convNd() for <class 'torch.nn.modules.conv.Conv2d'>.\n",
            "[INFO] Register count_linear() for <class 'torch.nn.modules.linear.Linear'>.\n",
            "\u001b[91m[WARN] Cannot find rule for <class '__main__.NetTest'>. Treat it as zero Macs and zero Params.\u001b[00m\n",
            " Train Epoch: 10/10 [50100/60000 (84%)]\tLoss: 0.361043Test Accuracy: 0.865500 %\n",
            " Train Epoch: 10/10 [60000/60000 (100%)]\tLoss: 0.363255\t Test Accuracy: 86.5500%\n",
            " Train Epoch: 10/10 [50100/60000 (84%)]\tLoss: 0.467086Test Accuracy: 0.862300 %\n",
            " Train Epoch: 10/10 [60000/60000 (100%)]\tLoss: 0.385461\t Test Accuracy: 86.2300%\n",
            " Train Epoch: 10/10 [50100/60000 (84%)]\tLoss: 0.268682Test Accuracy: 0.861700 %\n",
            " Train Epoch: 10/10 [60000/60000 (100%)]\tLoss: 0.375953\t Test Accuracy: 86.1700%\n",
            "{'im_res_orig': 16, 'im_res_new': 26, 'layer1_old': [3, 20, 1, 1], 'layer2_old': [5, 20, 0, 1], 'layer1': [4, 16, 1, 1], 'layer2': [3, 20, 1, 3], 'new_solutions': [(210580.0, 7636.0, 0.8631666666666667)]} \n",
            "\n",
            "[INFO] Register count_convNd() for <class 'torch.nn.modules.conv.Conv2d'>.\n",
            "[INFO] Register count_linear() for <class 'torch.nn.modules.linear.Linear'>.\n",
            "\u001b[91m[WARN] Cannot find rule for <class '__main__.NetTest'>. Treat it as zero Macs and zero Params.\u001b[00m\n",
            " Train Epoch: 10/10 [50100/60000 (84%)]\tLoss: 0.336783Test Accuracy: 0.873400 %\n",
            " Train Epoch: 10/10 [60000/60000 (100%)]\tLoss: 0.375131\t Test Accuracy: 87.3400%\n",
            " Train Epoch: 10/10 [50100/60000 (84%)]\tLoss: 0.385342Test Accuracy: 0.863300 %\n",
            " Train Epoch: 10/10 [60000/60000 (100%)]\tLoss: 0.495739\t Test Accuracy: 86.3300%\n",
            " Train Epoch: 10/10 [50100/60000 (84%)]\tLoss: 0.607219Test Accuracy: 0.863300 %\n",
            " Train Epoch: 10/10 [60000/60000 (100%)]\tLoss: 0.426343\t Test Accuracy: 86.3300%\n",
            "{'im_res_orig': 16, 'im_res_new': 28, 'layer1_old': [3, 20, 1, 1], 'layer2_old': [5, 20, 0, 1], 'layer1': [4, 16, 0, 1], 'layer2': [3, 20, 0, 3], 'new_solutions': [(210580.0, 7636.0, 0.8666666666666666)]} \n",
            "\n",
            "[INFO] Register count_convNd() for <class 'torch.nn.modules.conv.Conv2d'>.\n",
            "[INFO] Register count_linear() for <class 'torch.nn.modules.linear.Linear'>.\n",
            "\u001b[91m[WARN] Cannot find rule for <class '__main__.NetTest'>. Treat it as zero Macs and zero Params.\u001b[00m\n",
            " Train Epoch: 10/10 [50100/60000 (84%)]\tLoss: 0.380540Test Accuracy: 0.863600 %\n",
            " Train Epoch: 10/10 [60000/60000 (100%)]\tLoss: 0.281041\t Test Accuracy: 86.3600%\n",
            " Train Epoch: 10/10 [50100/60000 (84%)]\tLoss: 0.570392Test Accuracy: 0.858100 %\n",
            " Train Epoch: 10/10 [60000/60000 (100%)]\tLoss: 0.548474\t Test Accuracy: 85.8100%\n",
            " Train Epoch: 10/10 [50100/60000 (84%)]\tLoss: 0.554263Test Accuracy: 0.859100 %\n",
            " Train Epoch: 10/10 [60000/60000 (100%)]\tLoss: 0.437618\t Test Accuracy: 85.9100%\n",
            "{'im_res_orig': 16, 'im_res_new': 28, 'layer1_old': [3, 20, 1, 1], 'layer2_old': [5, 20, 0, 1], 'layer1': [4, 16, 0, 1], 'layer2': [3, 20, 1, 3], 'new_solutions': [(210580.0, 7636.0, 0.8602666666666666)]} \n",
            "\n",
            "\n",
            " --------------------- solution no 3 -------------------- \n",
            "\n",
            "[INFO] Register count_convNd() for <class 'torch.nn.modules.conv.Conv2d'>.\n",
            "[INFO] Register count_linear() for <class 'torch.nn.modules.linear.Linear'>.\n",
            "\u001b[91m[WARN] Cannot find rule for <class '__main__.NetTest'>. Treat it as zero Macs and zero Params.\u001b[00m\n",
            " Train Epoch: 10/10 [50100/60000 (84%)]\tLoss: 0.437916Test Accuracy: 0.839000 %\n",
            " Train Epoch: 10/10 [60000/60000 (100%)]\tLoss: 0.409998\t Test Accuracy: 83.9000%\n",
            " Train Epoch: 10/10 [50100/60000 (84%)]\tLoss: 0.562960Test Accuracy: 0.834600 %\n",
            " Train Epoch: 10/10 [60000/60000 (100%)]\tLoss: 0.499643\t Test Accuracy: 83.4600%\n",
            " Train Epoch: 10/10 [50100/60000 (84%)]\tLoss: 0.492998Test Accuracy: 0.828900 %\n",
            " Train Epoch: 10/10 [60000/60000 (100%)]\tLoss: 0.687382\t Test Accuracy: 82.8900%\n",
            "{'im_res_orig': 16, 'im_res_new': 26, 'layer1_old': [5, 10, 0, 1], 'layer2_old': [3, 10, 0, 1], 'layer1': [5, 9, 0, 3], 'layer2': [5, 10, 2, 1], 'orig_solutions': [(52900.0, 3650.0, 0.8341666666666666)]} \n",
            "\n",
            "[INFO] Register count_convNd() for <class 'torch.nn.modules.conv.Conv2d'>.\n",
            "[INFO] Register count_linear() for <class 'torch.nn.modules.linear.Linear'>.\n",
            "\u001b[91m[WARN] Cannot find rule for <class '__main__.NetTest'>. Treat it as zero Macs and zero Params.\u001b[00m\n",
            " Train Epoch: 10/10 [50100/60000 (84%)]\tLoss: 0.522034Test Accuracy: 0.849800 %\n",
            " Train Epoch: 10/10 [60000/60000 (100%)]\tLoss: 0.382501\t Test Accuracy: 84.9800%\n",
            " Train Epoch: 10/10 [50100/60000 (84%)]\tLoss: 0.607311Test Accuracy: 0.847700 %\n",
            " Train Epoch: 10/10 [60000/60000 (100%)]\tLoss: 0.311386\t Test Accuracy: 84.7700%\n",
            " Train Epoch: 10/10 [50100/60000 (84%)]\tLoss: 0.370625Test Accuracy: 0.848200 %\n",
            " Train Epoch: 10/10 [60000/60000 (100%)]\tLoss: 0.651234\t Test Accuracy: 84.8200%\n",
            "{'im_res_orig': 16, 'im_res_new': 26, 'layer1_old': [5, 10, 0, 1], 'layer2_old': [3, 10, 0, 1], 'layer1': [5, 9, 0, 3], 'layer2': [5, 10, 2, 1], 'orig_solutions': [(52900.0, 3650.0, 0.8341666666666666)], 'new_solutions': [(52900.0, 4975.0, 0.8485666666666667)]} \n",
            "\n",
            "[INFO] Register count_convNd() for <class 'torch.nn.modules.conv.Conv2d'>.\n",
            "[INFO] Register count_linear() for <class 'torch.nn.modules.linear.Linear'>.\n",
            "\u001b[91m[WARN] Cannot find rule for <class '__main__.NetTest'>. Treat it as zero Macs and zero Params.\u001b[00m\n",
            " Train Epoch: 10/10 [50100/60000 (84%)]\tLoss: 0.253258Test Accuracy: 0.853100 %\n",
            " Train Epoch: 10/10 [60000/60000 (100%)]\tLoss: 0.545380\t Test Accuracy: 85.3100%\n",
            " Train Epoch: 10/10 [50100/60000 (84%)]\tLoss: 0.627805Test Accuracy: 0.847700 %\n",
            " Train Epoch: 10/10 [60000/60000 (100%)]\tLoss: 0.560156\t Test Accuracy: 84.7700%\n",
            " Train Epoch: 10/10 [50100/60000 (84%)]\tLoss: 0.533216Test Accuracy: 0.848600 %\n",
            " Train Epoch: 10/10 [60000/60000 (100%)]\tLoss: 0.413947\t Test Accuracy: 84.8600%\n",
            "{'im_res_orig': 16, 'im_res_new': 26, 'layer1_old': [5, 10, 0, 1], 'layer2_old': [3, 10, 0, 1], 'layer1': [5, 9, 1, 3], 'layer2': [5, 10, 2, 1], 'new_solutions': [(52900.0, 4975.0, 0.8498000000000001)]} \n",
            "\n",
            "[INFO] Register count_convNd() for <class 'torch.nn.modules.conv.Conv2d'>.\n",
            "[INFO] Register count_linear() for <class 'torch.nn.modules.linear.Linear'>.\n",
            "\u001b[91m[WARN] Cannot find rule for <class '__main__.NetTest'>. Treat it as zero Macs and zero Params.\u001b[00m\n",
            " Train Epoch: 10/10 [50100/60000 (84%)]\tLoss: 0.261285Test Accuracy: 0.855800 %\n",
            " Train Epoch: 10/10 [60000/60000 (100%)]\tLoss: 0.459339\t Test Accuracy: 85.5800%\n",
            " Train Epoch: 10/10 [50100/60000 (84%)]\tLoss: 0.546679Test Accuracy: 0.850200 %\n",
            " Train Epoch: 10/10 [60000/60000 (100%)]\tLoss: 0.446447\t Test Accuracy: 85.0200%\n",
            " Train Epoch: 10/10 [50100/60000 (84%)]\tLoss: 0.566781Test Accuracy: 0.854400 %\n",
            " Train Epoch: 10/10 [60000/60000 (100%)]\tLoss: 0.320741\t Test Accuracy: 85.4400%\n",
            "{'im_res_orig': 16, 'im_res_new': 27, 'layer1_old': [5, 10, 0, 1], 'layer2_old': [3, 10, 0, 1], 'layer1': [5, 9, 0, 3], 'layer2': [5, 10, 2, 1], 'new_solutions': [(52900.0, 4975.0, 0.8534666666666667)]} \n",
            "\n",
            "[INFO] Register count_convNd() for <class 'torch.nn.modules.conv.Conv2d'>.\n",
            "[INFO] Register count_linear() for <class 'torch.nn.modules.linear.Linear'>.\n",
            "\u001b[91m[WARN] Cannot find rule for <class '__main__.NetTest'>. Treat it as zero Macs and zero Params.\u001b[00m\n",
            " Train Epoch: 10/10 [50100/60000 (84%)]\tLoss: 0.405309Test Accuracy: 0.846700 %\n",
            " Train Epoch: 10/10 [60000/60000 (100%)]\tLoss: 0.622104\t Test Accuracy: 84.6700%\n",
            " Train Epoch: 10/10 [50100/60000 (84%)]\tLoss: 0.374330Test Accuracy: 0.847900 %\n",
            " Train Epoch: 10/10 [60000/60000 (100%)]\tLoss: 0.553119\t Test Accuracy: 84.7900%\n",
            " Train Epoch: 10/10 [50100/60000 (84%)]\tLoss: 0.491303Test Accuracy: 0.848700 %\n",
            " Train Epoch: 10/10 [60000/60000 (100%)]\tLoss: 0.466883\t Test Accuracy: 84.8700%\n",
            "{'im_res_orig': 16, 'im_res_new': 28, 'layer1_old': [5, 10, 0, 1], 'layer2_old': [3, 10, 0, 1], 'layer1': [5, 9, 0, 3], 'layer2': [5, 10, 2, 1], 'new_solutions': [(52900.0, 4975.0, 0.8477666666666667)]} \n",
            "\n",
            "\n",
            " --------------------- solution no 4 -------------------- \n",
            "\n",
            "[INFO] Register count_convNd() for <class 'torch.nn.modules.conv.Conv2d'>.\n",
            "[INFO] Register count_linear() for <class 'torch.nn.modules.linear.Linear'>.\n",
            "\u001b[91m[WARN] Cannot find rule for <class '__main__.NetTest'>. Treat it as zero Macs and zero Params.\u001b[00m\n",
            " Train Epoch: 10/10 [50100/60000 (84%)]\tLoss: 0.441440Test Accuracy: 0.855700 %\n",
            " Train Epoch: 10/10 [60000/60000 (100%)]\tLoss: 0.577424\t Test Accuracy: 85.5700%\n",
            " Train Epoch: 10/10 [50100/60000 (84%)]\tLoss: 0.368863Test Accuracy: 0.854700 %\n",
            " Train Epoch: 10/10 [60000/60000 (100%)]\tLoss: 0.333988\t Test Accuracy: 85.4700%\n",
            " Train Epoch: 10/10 [50100/60000 (84%)]\tLoss: 0.480039Test Accuracy: 0.851100 %\n",
            " Train Epoch: 10/10 [60000/60000 (100%)]\tLoss: 0.359755\t Test Accuracy: 85.1100%\n",
            "{'im_res_orig': 16, 'im_res_new': 27, 'layer1_old': [5, 15, 0, 1], 'layer2_old': [3, 15, 0, 1], 'layer1': [5, 9, 0, 2], 'layer2': [5, 15, 1, 1], 'orig_solutions': [(89900.0, 5900.0, 0.8538333333333332)]} \n",
            "\n",
            "[INFO] Register count_convNd() for <class 'torch.nn.modules.conv.Conv2d'>.\n",
            "[INFO] Register count_linear() for <class 'torch.nn.modules.linear.Linear'>.\n",
            "\u001b[91m[WARN] Cannot find rule for <class '__main__.NetTest'>. Treat it as zero Macs and zero Params.\u001b[00m\n",
            " Train Epoch: 10/10 [50100/60000 (84%)]\tLoss: 0.341259Test Accuracy: 0.859300 %\n",
            " Train Epoch: 10/10 [60000/60000 (100%)]\tLoss: 0.621927\t Test Accuracy: 85.9300%\n",
            " Train Epoch: 10/10 [50100/60000 (84%)]\tLoss: 0.447754Test Accuracy: 0.870400 %\n",
            " Train Epoch: 10/10 [60000/60000 (100%)]\tLoss: 0.331366\t Test Accuracy: 87.0400%\n",
            " Train Epoch: 10/10 [50100/60000 (84%)]\tLoss: 0.450122Test Accuracy: 0.865400 %\n",
            " Train Epoch: 10/10 [60000/60000 (100%)]\tLoss: 0.385945\t Test Accuracy: 86.5400%\n",
            "{'im_res_orig': 16, 'im_res_new': 27, 'layer1_old': [5, 15, 0, 1], 'layer2_old': [3, 15, 0, 1], 'layer1': [5, 9, 0, 2], 'layer2': [5, 15, 1, 1], 'orig_solutions': [(89900.0, 5900.0, 0.8538333333333332)], 'new_solutions': [(89900.0, 7100.0, 0.8650333333333332)]} \n",
            "\n",
            "[INFO] Register count_convNd() for <class 'torch.nn.modules.conv.Conv2d'>.\n",
            "[INFO] Register count_linear() for <class 'torch.nn.modules.linear.Linear'>.\n",
            "\u001b[91m[WARN] Cannot find rule for <class '__main__.NetTest'>. Treat it as zero Macs and zero Params.\u001b[00m\n",
            " Train Epoch: 10/10 [50100/60000 (84%)]\tLoss: 0.479192Test Accuracy: 0.867400 %\n",
            " Train Epoch: 10/10 [60000/60000 (100%)]\tLoss: 0.458148\t Test Accuracy: 86.7400%\n",
            " Train Epoch: 10/10 [50100/60000 (84%)]\tLoss: 0.537858Test Accuracy: 0.869100 %\n",
            " Train Epoch: 10/10 [60000/60000 (100%)]\tLoss: 0.368818\t Test Accuracy: 86.9100%\n",
            " Train Epoch: 10/10 [50100/60000 (84%)]\tLoss: 0.342455Test Accuracy: 0.863100 %\n",
            " Train Epoch: 10/10 [60000/60000 (100%)]\tLoss: 0.319072\t Test Accuracy: 86.3100%\n",
            "{'im_res_orig': 16, 'im_res_new': 27, 'layer1_old': [5, 15, 0, 1], 'layer2_old': [3, 15, 0, 1], 'layer1': [5, 9, 0, 2], 'layer2': [5, 15, 3, 2], 'new_solutions': [(89900.0, 7100.0, 0.8665333333333333)]} \n",
            "\n",
            "[INFO] Register count_convNd() for <class 'torch.nn.modules.conv.Conv2d'>.\n",
            "[INFO] Register count_linear() for <class 'torch.nn.modules.linear.Linear'>.\n",
            "\u001b[91m[WARN] Cannot find rule for <class '__main__.NetTest'>. Treat it as zero Macs and zero Params.\u001b[00m\n",
            " Train Epoch: 10/10 [50100/60000 (84%)]\tLoss: 0.457051Test Accuracy: 0.861900 %\n",
            " Train Epoch: 10/10 [60000/60000 (100%)]\tLoss: 0.395610\t Test Accuracy: 86.1900%\n",
            " Train Epoch: 10/10 [50100/60000 (84%)]\tLoss: 0.323973Test Accuracy: 0.871000 %\n",
            " Train Epoch: 10/10 [60000/60000 (100%)]\tLoss: 0.277355\t Test Accuracy: 87.1000%\n",
            " Train Epoch: 10/10 [50100/60000 (84%)]\tLoss: 0.507747Test Accuracy: 0.865200 %\n",
            " Train Epoch: 10/10 [60000/60000 (100%)]\tLoss: 0.382459\t Test Accuracy: 86.5200%\n",
            "{'im_res_orig': 16, 'im_res_new': 28, 'layer1_old': [5, 15, 0, 1], 'layer2_old': [3, 15, 0, 1], 'layer1': [5, 9, 0, 2], 'layer2': [5, 15, 1, 1], 'new_solutions': [(89900.0, 7100.0, 0.8660333333333332)]} \n",
            "\n",
            "[INFO] Register count_convNd() for <class 'torch.nn.modules.conv.Conv2d'>.\n",
            "[INFO] Register count_linear() for <class 'torch.nn.modules.linear.Linear'>.\n",
            "\u001b[91m[WARN] Cannot find rule for <class '__main__.NetTest'>. Treat it as zero Macs and zero Params.\u001b[00m\n",
            " Train Epoch: 10/10 [50100/60000 (84%)]\tLoss: 0.350522Test Accuracy: 0.864300 %\n",
            " Train Epoch: 10/10 [60000/60000 (100%)]\tLoss: 0.315592\t Test Accuracy: 86.4300%\n",
            " Train Epoch: 10/10 [50100/60000 (84%)]\tLoss: 0.416081Test Accuracy: 0.858800 %\n",
            " Train Epoch: 10/10 [60000/60000 (100%)]\tLoss: 0.655898\t Test Accuracy: 85.8800%\n",
            " Train Epoch: 10/10 [50100/60000 (84%)]\tLoss: 0.379869Test Accuracy: 0.859900 %\n",
            " Train Epoch: 10/10 [60000/60000 (100%)]\tLoss: 0.383640\t Test Accuracy: 85.9900%\n",
            "{'im_res_orig': 16, 'im_res_new': 28, 'layer1_old': [5, 15, 0, 1], 'layer2_old': [3, 15, 0, 1], 'layer1': [5, 9, 0, 2], 'layer2': [5, 15, 3, 2], 'new_solutions': [(89900.0, 7100.0, 0.8610000000000001)]} \n",
            "\n",
            "\n",
            " --------------------- solution no 5 -------------------- \n",
            "\n",
            "[INFO] Register count_convNd() for <class 'torch.nn.modules.conv.Conv2d'>.\n",
            "[INFO] Register count_linear() for <class 'torch.nn.modules.linear.Linear'>.\n",
            "\u001b[91m[WARN] Cannot find rule for <class '__main__.NetTest'>. Treat it as zero Macs and zero Params.\u001b[00m\n",
            " Train Epoch: 10/10 [50100/60000 (84%)]\tLoss: 0.375374Test Accuracy: 0.845100 %\n",
            " Train Epoch: 10/10 [60000/60000 (100%)]\tLoss: 0.553319\t Test Accuracy: 84.5100%\n",
            " Train Epoch: 10/10 [50100/60000 (84%)]\tLoss: 0.332982Test Accuracy: 0.846500 %\n",
            " Train Epoch: 10/10 [60000/60000 (100%)]\tLoss: 0.419744\t Test Accuracy: 84.6500%\n",
            " Train Epoch: 10/10 [50100/60000 (84%)]\tLoss: 0.373324Test Accuracy: 0.834000 %\n",
            " Train Epoch: 10/10 [60000/60000 (100%)]\tLoss: 0.565992\t Test Accuracy: 83.4000%\n",
            "{'im_res_orig': 16, 'im_res_new': 27, 'layer1_old': [5, 10, 0, 1], 'layer2_old': [3, 15, 0, 1], 'layer1': [5, 6, 0, 2], 'layer2': [5, 15, 1, 1], 'orig_solutions': [(61100.0, 5100.0, 0.8418666666666667)]} \n",
            "\n",
            "[INFO] Register count_convNd() for <class 'torch.nn.modules.conv.Conv2d'>.\n",
            "[INFO] Register count_linear() for <class 'torch.nn.modules.linear.Linear'>.\n",
            "\u001b[91m[WARN] Cannot find rule for <class '__main__.NetTest'>. Treat it as zero Macs and zero Params.\u001b[00m\n",
            " Train Epoch: 10/10 [50100/60000 (84%)]\tLoss: 0.400289Test Accuracy: 0.853800 %\n",
            " Train Epoch: 10/10 [60000/60000 (100%)]\tLoss: 0.515117\t Test Accuracy: 85.3800%\n",
            " Train Epoch: 10/10 [50100/60000 (84%)]\tLoss: 0.329369Test Accuracy: 0.862500 %\n",
            " Train Epoch: 10/10 [60000/60000 (100%)]\tLoss: 0.368598\t Test Accuracy: 86.2500%\n",
            " Train Epoch: 10/10 [50100/60000 (84%)]\tLoss: 0.415606Test Accuracy: 0.859500 %\n",
            " Train Epoch: 10/10 [60000/60000 (100%)]\tLoss: 0.312852\t Test Accuracy: 85.9500%\n",
            "{'im_res_orig': 16, 'im_res_new': 27, 'layer1_old': [5, 10, 0, 1], 'layer2_old': [3, 15, 0, 1], 'layer1': [5, 6, 0, 2], 'layer2': [5, 15, 1, 1], 'orig_solutions': [(61100.0, 5100.0, 0.8418666666666667)], 'new_solutions': [(61100.0, 5900.0, 0.8586)]} \n",
            "\n",
            "[INFO] Register count_convNd() for <class 'torch.nn.modules.conv.Conv2d'>.\n",
            "[INFO] Register count_linear() for <class 'torch.nn.modules.linear.Linear'>.\n",
            "\u001b[91m[WARN] Cannot find rule for <class '__main__.NetTest'>. Treat it as zero Macs and zero Params.\u001b[00m\n",
            " Train Epoch: 10/10 [50100/60000 (84%)]\tLoss: 0.345867Test Accuracy: 0.852300 %\n",
            " Train Epoch: 10/10 [60000/60000 (100%)]\tLoss: 0.590376\t Test Accuracy: 85.2300%\n",
            " Train Epoch: 10/10 [50100/60000 (84%)]\tLoss: 0.480343Test Accuracy: 0.855000 %\n",
            " Train Epoch: 10/10 [60000/60000 (100%)]\tLoss: 0.528270\t Test Accuracy: 85.5000%\n",
            " Train Epoch: 10/10 [50100/60000 (84%)]\tLoss: 0.320964Test Accuracy: 0.858900 %\n",
            " Train Epoch: 10/10 [60000/60000 (100%)]\tLoss: 0.534879\t Test Accuracy: 85.8900%\n",
            "{'im_res_orig': 16, 'im_res_new': 27, 'layer1_old': [5, 10, 0, 1], 'layer2_old': [3, 15, 0, 1], 'layer1': [5, 6, 0, 2], 'layer2': [5, 15, 3, 2], 'new_solutions': [(61100.0, 5900.0, 0.8554)]} \n",
            "\n",
            "[INFO] Register count_convNd() for <class 'torch.nn.modules.conv.Conv2d'>.\n",
            "[INFO] Register count_linear() for <class 'torch.nn.modules.linear.Linear'>.\n",
            "\u001b[91m[WARN] Cannot find rule for <class '__main__.NetTest'>. Treat it as zero Macs and zero Params.\u001b[00m\n",
            " Train Epoch: 10/10 [50100/60000 (84%)]\tLoss: 0.309747Test Accuracy: 0.853600 %\n",
            " Train Epoch: 10/10 [60000/60000 (100%)]\tLoss: 0.429026\t Test Accuracy: 85.3600%\n",
            " Train Epoch: 10/10 [50100/60000 (84%)]\tLoss: 0.363136Test Accuracy: 0.850800 %\n",
            " Train Epoch: 10/10 [60000/60000 (100%)]\tLoss: 0.318621\t Test Accuracy: 85.0800%\n",
            " Train Epoch: 10/10 [50100/60000 (84%)]\tLoss: 0.382362Test Accuracy: 0.854200 %\n",
            " Train Epoch: 10/10 [60000/60000 (100%)]\tLoss: 0.401136\t Test Accuracy: 85.4200%\n",
            "{'im_res_orig': 16, 'im_res_new': 28, 'layer1_old': [5, 10, 0, 1], 'layer2_old': [3, 15, 0, 1], 'layer1': [5, 6, 0, 2], 'layer2': [5, 15, 1, 1], 'new_solutions': [(61100.0, 5900.0, 0.8528666666666668)]} \n",
            "\n",
            "[INFO] Register count_convNd() for <class 'torch.nn.modules.conv.Conv2d'>.\n",
            "[INFO] Register count_linear() for <class 'torch.nn.modules.linear.Linear'>.\n",
            "\u001b[91m[WARN] Cannot find rule for <class '__main__.NetTest'>. Treat it as zero Macs and zero Params.\u001b[00m\n",
            " Train Epoch: 10/10 [20100/60000 (34%)]\tLoss: 0.250304"
          ],
          "name": "stdout"
        }
      ]
    },
    {
      "cell_type": "code",
      "metadata": {
        "colab": {
          "base_uri": "https://localhost:8080/"
        },
        "id": "26uxbDiDxX6f",
        "outputId": "e8c7def7-584e-4211-ed09-96cc60ef6f19"
      },
      "source": [
        "sol_3[0]\n",
        "# all_solutions[0]"
      ],
      "execution_count": 25,
      "outputs": [
        {
          "output_type": "execute_result",
          "data": {
            "text/plain": [
              "{'im_res_new': 28,\n",
              " 'im_res_orig': 12,\n",
              " 'layer1': [5, 7, 3, 3],\n",
              " 'layer1_old': [3, 15, 0, 1],\n",
              " 'layer2': [5, 20, 0, 1],\n",
              " 'layer2_old': [5, 20, 0, 1],\n",
              " 'orig_solutions': []}"
            ]
          },
          "metadata": {
            "tags": []
          },
          "execution_count": 25
        }
      ]
    },
    {
      "cell_type": "code",
      "metadata": {
        "id": "9zQQFZzZAnz1"
      },
      "source": [
        "# ([len(x) for x in all_solutions])\n",
        "# sol_3\n",
        "# \n",
        "# len(all_solutions)\n",
        "\n",
        "\n",
        "\n",
        "all_res[N1]"
      ],
      "execution_count": null,
      "outputs": []
    },
    {
      "cell_type": "code",
      "metadata": {
        "id": "3cPgmIM1mSSU"
      },
      "source": [
        "all_solutions[2]"
      ],
      "execution_count": null,
      "outputs": []
    },
    {
      "cell_type": "code",
      "metadata": {
        "id": "2GhWb1-mmS5a"
      },
      "source": [
        ""
      ],
      "execution_count": null,
      "outputs": []
    },
    {
      "cell_type": "code",
      "metadata": {
        "id": "x8U-8XrLKrgV"
      },
      "source": [
        "for k in all_res.keys():\n",
        "  means = np.mean(np.array([(x[-1],np.max(y)) for x,y in all_res[k]]), axis=0)\n",
        "  # stds = np.std(np.array([(x[0][-1],np.max(y)) for x,y in all_res[k] ]), axis=0)\n",
        "  plt.plot(means)"
      ],
      "execution_count": null,
      "outputs": []
    },
    {
      "cell_type": "code",
      "metadata": {
        "id": "iVKpqr7n6h0B"
      },
      "source": [
        "means"
      ],
      "execution_count": null,
      "outputs": []
    },
    {
      "cell_type": "code",
      "metadata": {
        "id": "zxHleTnpacj_"
      },
      "source": [
        "for k in all_res.keys():\n",
        "  means = np.mean(np.array([(x[0][-1],y) for x,y in all_res[k] ]), axis=0)\n",
        "  stds = np.std(np.array([(x[0][-1],y) for x,y in all_res[k] ]), axis=0)\n",
        "  plt.plot(means)\n"
      ],
      "execution_count": null,
      "outputs": []
    },
    {
      "cell_type": "code",
      "metadata": {
        "id": "xvJH19_TC3sO"
      },
      "source": [
        "sol_3"
      ],
      "execution_count": null,
      "outputs": []
    },
    {
      "cell_type": "code",
      "metadata": {
        "id": "vQHMz9pRjGcr"
      },
      "source": [
        "# FLOPS\n",
        "# http://www.bnikolic.co.uk/blog/python/flops/2019/10/01/pytorch-count-flops.html"
      ],
      "execution_count": null,
      "outputs": []
    },
    {
      "cell_type": "markdown",
      "metadata": {
        "id": "BEym_vLOgEp5"
      },
      "source": [
        ""
      ]
    },
    {
      "cell_type": "code",
      "metadata": {
        "id": "3ahq_bgDgEp5"
      },
      "source": [
        "aa = {2:'a'}"
      ],
      "execution_count": null,
      "outputs": []
    },
    {
      "cell_type": "code",
      "metadata": {
        "id": "tJBPTzm-kejx"
      },
      "source": [
        "from matplotlib import pyplot as plt"
      ],
      "execution_count": null,
      "outputs": []
    },
    {
      "cell_type": "code",
      "metadata": {
        "id": "WwpWkGRZlWsO"
      },
      "source": [
        "colors = ['blue', 'red', 'green', ]\n",
        "for idx,i in enumerate([7,14,28]):\n",
        "  plt.plot(np.log(pars[ress==i]), score[ress==i] , 'o', color = colors[idx])\n",
        "\n",
        "plt.legend(['res = 7', 'res = 14', 'res = 28'])"
      ],
      "execution_count": null,
      "outputs": []
    },
    {
      "cell_type": "code",
      "metadata": {
        "id": "MjPLszlGlaY4"
      },
      "source": [
        "colors = ['blue', 'red', 'green', ]\n",
        "for idx,i in enumerate([7,14,28]):\n",
        "  plt.plot(np.log(flops[ress==i]), score[ress==i] , 'o', color = colors[idx])\n",
        "\n",
        "plt.legend(['res = 7', 'res = 14', 'res = 28'])"
      ],
      "execution_count": null,
      "outputs": []
    },
    {
      "cell_type": "code",
      "metadata": {
        "id": "z9DPWCI0mq-r"
      },
      "source": [
        ""
      ],
      "execution_count": null,
      "outputs": []
    },
    {
      "cell_type": "code",
      "metadata": {
        "id": "5FqAhvbIobLN"
      },
      "source": [
        "from google.colab import drive\n",
        "drive.mount('/content/drive')"
      ],
      "execution_count": null,
      "outputs": []
    },
    {
      "cell_type": "code",
      "metadata": {
        "id": "YovErL0-oUEs"
      },
      "source": [
        "# ls MyDrive/"
      ],
      "execution_count": null,
      "outputs": []
    },
    {
      "cell_type": "code",
      "metadata": {
        "id": "-kmPE3U2of2t"
      },
      "source": [
        "cd drive/"
      ],
      "execution_count": null,
      "outputs": []
    },
    {
      "cell_type": "code",
      "metadata": {
        "id": "N15rtEEdolUm"
      },
      "source": [
        "# cd /MyDrive/classification_images/Pairwise\n",
        "!cd MyDrive/ClassificationImages/Pairwise/"
      ],
      "execution_count": null,
      "outputs": []
    },
    {
      "cell_type": "code",
      "metadata": {
        "id": "uG_7x65oonJS"
      },
      "source": [
        "# from google.colab import files\n",
        "# # \n",
        "# with open('example.txt', 'w') as f:\n",
        "#   f.write('some content')\n",
        "\n",
        "# files.download('example.txt')\n",
        "\n",
        "\n",
        "\n",
        "# with open('MyDrive/ClassificationImages/Pairwise/accs_mnist.npz', 'w') as f:\n",
        "np.savez('MyDrive/ClassificationImages/Pairwise/accs_fmnist.npz', accs)\n"
      ],
      "execution_count": null,
      "outputs": []
    },
    {
      "cell_type": "code",
      "metadata": {
        "id": "GNss-tWspL-P"
      },
      "source": [
        "# with open('MyDrive/ClassificationImages/Pairwise/accs_mnist.npz') as f:\n",
        "dd = np.load('MyDrive/ClassificationImages/Pairwise/accs_mnist.npz')"
      ],
      "execution_count": null,
      "outputs": []
    },
    {
      "cell_type": "code",
      "metadata": {
        "id": "g07IsyKrqM7x"
      },
      "source": [
        "# accs = dd['arr_0']"
      ],
      "execution_count": null,
      "outputs": []
    },
    {
      "cell_type": "code",
      "metadata": {
        "id": "CIeLykpBqNQD"
      },
      "source": [
        "def test_f(aa):\n",
        "  aa.append(10)\n",
        "\n",
        "  return\n",
        "\n",
        "q = [1]\n",
        "test_f(q)\n",
        "print(q)\n"
      ],
      "execution_count": null,
      "outputs": []
    },
    {
      "cell_type": "code",
      "metadata": {
        "id": "qKYYYozCrES4"
      },
      "source": [
        ""
      ],
      "execution_count": null,
      "outputs": []
    }
  ]
}