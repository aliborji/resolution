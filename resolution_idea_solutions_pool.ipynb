{
  "nbformat": 4,
  "nbformat_minor": 0,
  "metadata": {
    "colab": {
      "name": "resolution_idea_solutions_pool.ipynb",
      "provenance": [],
      "collapsed_sections": []
    },
    "kernelspec": {
      "display_name": "Python 3",
      "language": "python",
      "name": "python3"
    },
    "language_info": {
      "codemirror_mode": {
        "name": "ipython",
        "version": 3
      },
      "file_extension": ".py",
      "mimetype": "text/x-python",
      "name": "python",
      "nbconvert_exporter": "python",
      "pygments_lexer": "ipython3",
      "version": "3.7.3"
    },
    "accelerator": "GPU"
  },
  "cells": [
    {
      "cell_type": "code",
      "metadata": {
        "colab": {
          "base_uri": "https://localhost:8080/"
        },
        "id": "-Fw-gSFYIbdu",
        "outputId": "98005610-4ec3-47b6-f013-bd62ecbb582c"
      },
      "source": [
        "%matplotlib inline\n",
        "!pip install thop\n",
        "\n",
        "from __future__ import print_function\n",
        "import torch\n",
        "import torch.nn as nn\n",
        "import torch.nn.functional as F\n",
        "import torch.optim as optim\n",
        "from torchvision import datasets, transforms\n",
        "import numpy as np\n",
        "import matplotlib.pyplot as plt\n",
        "from thop import profile\n",
        "from torchsummary import summary\n"
      ],
      "execution_count": 1,
      "outputs": [
        {
          "output_type": "stream",
          "text": [
            "Requirement already satisfied: thop in /usr/local/lib/python3.6/dist-packages (0.0.31.post2005241907)\n",
            "Requirement already satisfied: torch>=1.0.0 in /usr/local/lib/python3.6/dist-packages (from thop) (1.7.0+cu101)\n",
            "Requirement already satisfied: dataclasses in /usr/local/lib/python3.6/dist-packages (from torch>=1.0.0->thop) (0.8)\n",
            "Requirement already satisfied: future in /usr/local/lib/python3.6/dist-packages (from torch>=1.0.0->thop) (0.16.0)\n",
            "Requirement already satisfied: numpy in /usr/local/lib/python3.6/dist-packages (from torch>=1.0.0->thop) (1.19.5)\n",
            "Requirement already satisfied: typing-extensions in /usr/local/lib/python3.6/dist-packages (from torch>=1.0.0->thop) (3.7.4.3)\n"
          ],
          "name": "stdout"
        }
      ]
    },
    {
      "cell_type": "markdown",
      "metadata": {
        "id": "y9c5QX7BgEp4"
      },
      "source": [
        "# training a model first"
      ]
    },
    {
      "cell_type": "code",
      "metadata": {
        "id": "FN6ifgYqgEp4"
      },
      "source": [
        "use_cuda = True\n"
      ],
      "execution_count": 2,
      "outputs": []
    },
    {
      "cell_type": "code",
      "metadata": {
        "id": "nT9LC5-AoseA"
      },
      "source": [
        "NUM_MODEL_RUNS = 3\n",
        "EPOCHS = 10"
      ],
      "execution_count": 5,
      "outputs": []
    },
    {
      "cell_type": "code",
      "metadata": {
        "id": "rr39Ia68tUnF"
      },
      "source": [
        "\n",
        "def find_res_fixed_params_pool(N1, C1, S1, P1, C2, S2, P2):\n",
        "  '''\n",
        "    Keeping the number of parameters the same using a pooling layer\n",
        "    Approach II in the paper\n",
        "  '''\n",
        "  num_solutions = 0\n",
        "  Solutions = []\n",
        "\n",
        "  M1 = int((N1 - C1 + 2*P1) / S1 + 1) # output size after conv 1 \n",
        "  # M1 = (N1 - C1 + 2*P1) / S1\n",
        "\n",
        "  for N2 in np.arange(N1+1,29,2): # new resolution\n",
        "    for F in np.arange(2,6): # pooling kernel size\n",
        "      for S in np.arange(1,3): # stride in pool layer\n",
        "        for P in np.arange(F//2): # padding in pool layer\n",
        "          # W1 = (N2 - C1 + 2*P1) / S1\n",
        "          # M2 = (W1 - F + 2*P)  / S\n",
        "          W1 = int((N2 - C1 + 2*P1) / S1 + 1)\n",
        "          M2 = int((W1 - F + 2*P)  / S + 1)\n",
        "\n",
        "          if M1 == M2: #continue\n",
        "\n",
        "          # print(f'1st layer old: inp res: {N1}, filter size: {C1}, num filters: {K1}, out res: {M1}, stride: {S1}, pad: {P1}')\n",
        "          # print(f'1st layer new: inp res: {N2}, filter size: {C1}, num filters: {K1}, out res: {M1}, stride: {S1}, pad: {P1}')\n",
        "          # print(f'pooling layer: inp res: {M1}, filter size: {F},  out res: {M2}, stride: {S}, pad: {P}')\n",
        "          # params_old = (K1 * C1**2 * 1) \n",
        "          # params_new = (K1 * C1**2 * 1) \n",
        "          # # print(f'PARAMs old: {params_old}, PARAMs new: {params_new}\\n')\n",
        "\n",
        "          # assert params_old==params_new, False\n",
        "\n",
        "            num_solutions += 1\n",
        "            Solutions.append({'im_res_orig':N1, 'im_res_new':N2, 'layer1':[C1, S1, P1], 'layer2':[C2, S2, P2], 'pool_layer':[F, S, P]})\n",
        "\n",
        "  # print(f'num solutions: {num_solutions}')\n",
        "  return Solutions  \n",
        "\n"
      ],
      "execution_count": 6,
      "outputs": []
    },
    {
      "cell_type": "code",
      "metadata": {
        "id": "FcEaJXHJtcNJ"
      },
      "source": [
        ""
      ],
      "execution_count": 4,
      "outputs": []
    },
    {
      "cell_type": "code",
      "metadata": {
        "id": "EDttasGMlZ02"
      },
      "source": [
        "from keras.preprocessing.image import img_to_array\n",
        "from keras.preprocessing.image import array_to_img\n",
        "\n",
        "\n",
        "class NetTest(nn.Module):\n",
        "    def __init__(self, im_res=28, conv1_size=3, conv2_size=3, pool1_size=2, pool2_size=2, num_conv1=10, num_conv2=10, stride_1=1, stride_2=1, padd_1=0, padd_2=0, num_hid=50, pool_layer=None):\n",
        "        super(NetTest, self).__init__()\n",
        "        # import pdb; pdb.set_trace()\n",
        "        self.conv1 = nn.Conv2d(1, num_conv1, kernel_size=conv1_size, stride=stride_1, padding=padd_1, bias=True)\n",
        "        self.res_conv1 = int((im_res - conv1_size + 2*padd_1) / stride_1 + 1)\n",
        "\n",
        "        # plug the new pooling layer\n",
        "        self.new_pool_layer = pool_layer\n",
        "        if self.new_pool_layer:\n",
        "          self.res_conv1 = int((self.res_conv1 - self.new_pool_layer[0] + 2*self.new_pool_layer[2]) / self.new_pool_layer[1] + 1)\n",
        "\n",
        "\n",
        "        # self.res_pool1 = int((self.res_conv1 - pool1_size + 2*0) / pool1_size + 1)                \n",
        "\n",
        "        self.conv2 = nn.Conv2d(num_conv1, num_conv2, kernel_size=conv2_size, stride=stride_2, padding=padd_2, bias=True)\n",
        "        \n",
        "        # print(stride_2)\n",
        "        self.res_conv2 = int((self.res_conv1 - conv2_size + 2*padd_2) / stride_2 + 1 )       \n",
        "        # self.res_pool2 = int((self.res_conv2 - pool2_size + 2*0) / pool2_size + 1)               \n",
        "        \n",
        "        self.conv2_drop = nn.Dropout2d()\n",
        "\n",
        "        self.fc1 = nn.Linear((self.res_conv2**2)*num_conv2, num_hid, bias=True)        \n",
        "        self.fc2 = nn.Linear(num_hid, 10, bias=True)\n",
        "        self.pool1_size = pool1_size\n",
        "        self.pool2_size = pool2_size\n",
        "        self.num_conv2 = num_conv2\n",
        "        self.im_res = im_res\n",
        "\n",
        "\n",
        "        \n",
        "    def forward(self, x):\n",
        "        # import pdb; pdb.set_trace()\n",
        "        tmp1 = F.relu(self.conv1(x))\n",
        "        if self.new_pool_layer:\n",
        "          tmp1 = F.relu(F.max_pool2d(tmp1, kernel_size=self.new_pool_layer[0], stride=self.new_pool_layer[1], padding=self.new_pool_layer[2] ))\n",
        "\n",
        "        # tmp1 = F.relu(F.max_pool2d(tmp1, self.pool1_size))\n",
        "        # tmp1 = F.relu(tmp1)\n",
        "        tmp = F.relu(self.conv2_drop(self.conv2(tmp1)))\n",
        "        # x = F.avg_pool2d(tmp, kernel_size=tmp.shape[-1])\n",
        "        # x = x[:,:,0,0]\n",
        "\n",
        "        x = tmp.view(-1, (self.res_conv2**2)*self.num_conv2)\n",
        "        x = F.relu(self.fc1(x))\n",
        "        x = F.dropout(x, training=self.training)\n",
        "        x = self.fc2(x)\n",
        "        return x   ### SUPER IMPORTANT ***************************** works with cross entropy loss loss now\n",
        "\n",
        "device = 'cuda'"
      ],
      "execution_count": 7,
      "outputs": []
    },
    {
      "cell_type": "code",
      "metadata": {
        "id": "xp9zZ2P6T1Tw"
      },
      "source": [
        "# F.max_pool2d?"
      ],
      "execution_count": 8,
      "outputs": []
    },
    {
      "cell_type": "code",
      "metadata": {
        "id": "NINTmFMRDpeM"
      },
      "source": [
        "# c = 6\n",
        "# p = 3\n",
        "# s = 2\n",
        "# assert 20 == (28 - c + 2*p) / s + 1, False\n",
        "# 19 = 22 + 2*6 \n",
        "# import cv2\n"
      ],
      "execution_count": 9,
      "outputs": []
    },
    {
      "cell_type": "code",
      "metadata": {
        "id": "3CGZ2JLFzdgA"
      },
      "source": [
        "def train_model(model):\n",
        "\n",
        "  # EPOCHS = 1\n",
        "  losses = []\n",
        "\n",
        "  optimizer = optim.Adadelta(model.parameters())\n",
        "\n",
        "  model.train()\n",
        "  for epoch in range(EPOCHS):\n",
        "      for batch_idx, (data, target) in enumerate(train_loader):\n",
        "          \n",
        "          data, target = data.to(device), target.to(device)        \n",
        "          optimizer.zero_grad()\n",
        "          y_pred = model(data) \n",
        "\n",
        "          # import pdb; pdb.set_trace()\n",
        "          loss = F.cross_entropy(y_pred, target)\n",
        "          losses.append(loss.cpu().data)\n",
        "\n",
        "          loss.backward()\n",
        "          optimizer.step()\n",
        "          \n",
        "          # Display\n",
        "          if batch_idx % 100 == 1:\n",
        "              print('\\r Train Epoch: {}/{} [{}/{} ({:.0f}%)]\\tLoss: {:.6f}'.format(\n",
        "                  epoch+1,\n",
        "                  EPOCHS,\n",
        "                  batch_idx * len(data), \n",
        "                  len(train_loader.dataset),\n",
        "                  100. * batch_idx / len(train_loader), \n",
        "                  loss.cpu().data), \n",
        "                  end='')\n",
        "\n",
        "  # Eval\n",
        "  # model.eval()\n",
        "  # Eval\n",
        "  model.eval()\n",
        "  correct = total = 0\n",
        "  for idx, (images, labels) in enumerate(test_loader):\n",
        "      images, labels = images.to(device), labels.to(device)\n",
        "\n",
        "      outputs = model(images)\n",
        "      _, pre = torch.max(outputs.data, 1)\n",
        "\n",
        "      total += len(labels)\n",
        "      correct += (pre == labels).sum()\n",
        "\n",
        "  accuracy = float(correct) / total\n",
        "  print('Test Accuracy: %f %%' % accuracy)\n",
        "  # return acc\n",
        "\n",
        "\n",
        "  # import pdb; pdb.set_trace()\n",
        "  # evaluate_x = test_loader.dataset.test_data.type_as(torch.FloatTensor()).to(device)\n",
        "  # evaluate_y = test_loader.dataset.test_labels.to(device)\n",
        "\n",
        "  # output = model(evaluate_x[:,None,...])\n",
        "  # pred = output.data.max(1)[1]\n",
        "  # d = pred.eq(evaluate_y.data).cpu()\n",
        "  # accuracy = d.sum().type(dtype=torch.float64)/d.size()[0]\n",
        "  \n",
        "  print('\\r Train Epoch: {}/{} [{}/{} ({:.0f}%)]\\tLoss: {:.6f}\\t Test Accuracy: {:.4f}%'.format(\n",
        "      epoch+1,\n",
        "      EPOCHS,\n",
        "      len(train_loader.dataset), \n",
        "      len(train_loader.dataset),\n",
        "      100. * batch_idx / len(train_loader), \n",
        "      loss.cpu().data,\n",
        "      accuracy*100,\n",
        "      end=''))\n",
        "  \n",
        "\n",
        "  return accuracy"
      ],
      "execution_count": 10,
      "outputs": []
    },
    {
      "cell_type": "code",
      "metadata": {
        "id": "wdlukGiltyP5"
      },
      "source": [
        "# sol_3"
      ],
      "execution_count": 11,
      "outputs": []
    },
    {
      "cell_type": "code",
      "metadata": {
        "id": "-Saj7rxrhL6Z"
      },
      "source": [
        ""
      ],
      "execution_count": 11,
      "outputs": []
    },
    {
      "cell_type": "code",
      "metadata": {
        "id": "vIedXhFbNK84"
      },
      "source": [
        "def evaluate_orig_model(sol):\n",
        "\n",
        "  # run the original model for a couple of times\n",
        "  sol['orig_solutions'] = []\n",
        "\n",
        "  cv1_size = sol['layer1'][0]\n",
        "  st1 = sol['layer1'][1]\n",
        "  pd1 = sol['layer1'][2]\n",
        "\n",
        "  cv2_size = sol['layer2'][0]\n",
        "  st2 = sol['layer2'][1]\n",
        "  pd2 = sol['layer2'][2]\n",
        "\n",
        "\n",
        "  im_res = sol['im_res_orig']\n",
        "\n",
        "  global train_loader\n",
        "  global test_loader\n",
        "  \n",
        "  train_loader = torch.utils.data.DataLoader(\n",
        "      datasets.FashionMNIST('../data', train=True, download=True, transform=transforms.Compose([\n",
        "              transforms.ToTensor(),transforms.Resize((im_res, im_res)),])), batch_size=100, shuffle=True)\n",
        "\n",
        "  test_loader = torch.utils.data.DataLoader(\n",
        "      datasets.FashionMNIST('../data', train=False, download=True, transform=transforms.Compose([\n",
        "              transforms.ToTensor(),transforms.Resize((im_res, im_res)),])), batch_size=100, shuffle=True)\n",
        "\n",
        "  # for run_no in range(1):\n",
        "  # try:\n",
        "      # print(f'----  im_res={im_res_new}, conv1_size={cv1_size}, conv2_size={cv2_size}')\n",
        "  # import pdb; pdb.set_trace()\n",
        "  accs = []\n",
        "  for i in range(NUM_MODEL_RUNS):\n",
        "    model = NetTest(im_res=im_res, conv1_size=cv1_size, stride_1=st1, padd_1=pd1, conv2_size=cv2_size, stride_2=st2, padd_2=pd2).to(device)\n",
        "    if i==0:\n",
        "      macs, params = profile(model, inputs=(torch.randn(1, 1, im_res, im_res).to(device), ))\n",
        "    accs.append(train_model(model))\n",
        "  \n",
        "  sol['orig_solutions'].append((macs, params, np.mean(accs)))\n",
        "  # accuracies.append((sol, macs, params, acc))\n",
        "  # print(accuracies[-1])\n",
        "  print(sol, '\\n')\n",
        "\n",
        "  # except:\n",
        "  #   print('\\n Model invalid')\n",
        "\n",
        "\n",
        "  return #sol\n"
      ],
      "execution_count": 12,
      "outputs": []
    },
    {
      "cell_type": "code",
      "metadata": {
        "id": "chf2kB7wVinf"
      },
      "source": [
        "def evaluate_new_model(sols):\n",
        "  # running the solutions; one by one; three each\n",
        "  # for run_no\n",
        "\n",
        "  for sol in sols:\n",
        "        im_res = sol['im_res_new']\n",
        "        \n",
        "        cv1_size = sol['layer1'][0]\n",
        "        st1 = sol['layer1'][1]\n",
        "        pd1 = sol['layer1'][2]\n",
        "\n",
        "        cv2_size = sol['layer2'][0]\n",
        "        st2 = sol['layer2'][1]\n",
        "        pd2 = sol['layer2'][2]\n",
        "\n",
        "        pool_lyr = sol['pool_layer']\n",
        "        sol['new_solutions'] = []\n",
        "\n",
        "        global train_loader\n",
        "        global test_loader\n",
        "\n",
        "        train_loader = torch.utils.data.DataLoader(\n",
        "            datasets.FashionMNIST('../data', train=True, download=True, transform=transforms.Compose([\n",
        "                    transforms.ToTensor(),transforms.Resize((im_res, im_res)),])), batch_size=100, shuffle=True)\n",
        "\n",
        "        test_loader = torch.utils.data.DataLoader(\n",
        "            datasets.FashionMNIST('../data', train=False, download=True, transform=transforms.Compose([\n",
        "                    transforms.ToTensor(),transforms.Resize((im_res, im_res)),])), batch_size=100, shuffle=True)\n",
        "\n",
        "\n",
        "        # for run_no in range(1):\n",
        "        # try:\n",
        "          # print(f'----  im_res={im_res_new}, conv1_size={cv1_size}, conv2_size={cv2_size}')\n",
        "        # import pdb; pdb.set_trace()  \n",
        "        accs = []\n",
        "        for i in range(NUM_MODEL_RUNS):\n",
        "          model = NetTest(im_res=im_res, conv1_size=cv1_size, stride_1=st1, padd_1=pd1, conv2_size=cv2_size, stride_2=st2, padd_2=pd2, pool_layer=pool_lyr).to(device)\n",
        "          if i==0:\n",
        "            macs, params = profile(model, inputs=(torch.randn(1, 1, im_res, im_res).to(device), ))\n",
        "          accs.append(train_model(model))\n",
        "        \n",
        "        # which_model = 'new_res' if a else 'orig_res'\n",
        "        # sol[which_model] = (macs, params, acc)\n",
        "        sol['new_solutions'].append((macs, params, np.mean(accs)))\n",
        "        # accuracies.append((sol, macs, params, acc))\n",
        "        # print(accuracies[-1])\n",
        "        print(sol, '\\n')\n",
        "\n",
        "        # except:\n",
        "        #   print('\\n Model invalid')\n",
        "\n",
        "  \n",
        "  return #sols"
      ],
      "execution_count": 13,
      "outputs": []
    },
    {
      "cell_type": "code",
      "metadata": {
        "id": "o35rJcNMqkhN"
      },
      "source": [
        "# np.arange(3,8,2)"
      ],
      "execution_count": 14,
      "outputs": []
    },
    {
      "cell_type": "code",
      "metadata": {
        "colab": {
          "base_uri": "https://localhost:8080/"
        },
        "id": "FXpPn7xn2Mfv",
        "outputId": "2cba4b47-dd8e-4d9d-b3d7-177833b77b65"
      },
      "source": [
        "import random \n",
        "all_res = {}\n",
        "\n",
        "for N1 in [12]:#12,16,20,24]:\n",
        "  all_solutions = []\n",
        "  for C1 in np.arange(3,6,2): # filter size layer 1 \n",
        "    for S1 in np.arange(1,3): # stride layer 1    \n",
        "      for P1 in np.arange(4): # padding layer 1\n",
        "        for C2 in np.arange(3,6,2): # filter size layer 1 \n",
        "          for S2 in np.arange(1,3): # stride layer 1    \n",
        "            for P2 in np.arange(4): # padding layer 1\n",
        "              xx = find_res_fixed_params_pool(N1, C1, S1, P1, C2, S2, P2)\n",
        "              if xx:\n",
        "                all_solutions.append(xx)\n",
        "  \n",
        "  results = []\n",
        "  random.shuffle(all_solutions)\n",
        "  all_solutions.sort(key=len, reverse=True)\n",
        "  all_solutions = all_solutions[:10]\n",
        "  for idx, sol_3 in enumerate(all_solutions):\n",
        "    print(f'\\n --------------------- solution no {idx} -------------------- \\n')\n",
        "    if len(sol_3) > 4:\n",
        "      sol_3 = sol_3[-4:]\n",
        "\n",
        "    evaluate_orig_model(sol_3[0])\n",
        "    if not sol_3[0]['orig_solutions']:\n",
        "      break\n",
        "\n",
        "    evaluate_new_model(sol_3)\n",
        "    xx = (sol_3[0]['orig_solutions'][0], [sol['new_solutions'][0][-1] for sol in sol_3 if sol['new_solutions']])\n",
        "\n",
        "    results.append(xx)\n",
        "\n",
        "  all_res[N1] = results          \n",
        "print(len(all_solutions))"
      ],
      "execution_count": null,
      "outputs": [
        {
          "output_type": "stream",
          "text": [
            "\n",
            " --------------------- solution no 0 -------------------- \n",
            "\n",
            "[INFO] Register count_convNd() for <class 'torch.nn.modules.conv.Conv2d'>.\n",
            "\u001b[91m[WARN] Cannot find rule for <class 'torch.nn.modules.dropout.Dropout2d'>. Treat it as zero Macs and zero Params.\u001b[00m\n",
            "[INFO] Register count_linear() for <class 'torch.nn.modules.linear.Linear'>.\n",
            "\u001b[91m[WARN] Cannot find rule for <class '__main__.NetTest'>. Treat it as zero Macs and zero Params.\u001b[00m\n",
            " Train Epoch: 10/10 [50100/60000 (84%)]\tLoss: 0.553623Test Accuracy: 0.802500 %\n",
            " Train Epoch: 10/10 [60000/60000 (100%)]\tLoss: 0.610690\t Test Accuracy: 80.2500%\n",
            " Train Epoch: 10/10 [50100/60000 (84%)]\tLoss: 0.660086Test Accuracy: 0.806900 %\n",
            " Train Epoch: 10/10 [60000/60000 (100%)]\tLoss: 0.608620\t Test Accuracy: 80.6900%\n",
            " Train Epoch: 10/10 [50100/60000 (84%)]\tLoss: 0.612419Test Accuracy: 0.803800 %\n",
            " Train Epoch: 10/10 [60000/60000 (100%)]\tLoss: 0.509879\t Test Accuracy: 80.3800%\n",
            "{'im_res_orig': 12, 'im_res_new': 23, 'layer1': [5, 2, 0], 'layer2': [5, 2, 2], 'pool_layer': [5, 2, 1], 'orig_solutions': [(16700.0, 5330.0, 0.8043999999999999)]} \n",
            "\n",
            "[INFO] Register count_convNd() for <class 'torch.nn.modules.conv.Conv2d'>.\n",
            "\u001b[91m[WARN] Cannot find rule for <class 'torch.nn.modules.dropout.Dropout2d'>. Treat it as zero Macs and zero Params.\u001b[00m\n",
            "[INFO] Register count_linear() for <class 'torch.nn.modules.linear.Linear'>.\n",
            "\u001b[91m[WARN] Cannot find rule for <class '__main__.NetTest'>. Treat it as zero Macs and zero Params.\u001b[00m\n",
            " Train Epoch: 10/10 [50100/60000 (84%)]\tLoss: 0.688197Test Accuracy: 0.822300 %\n",
            " Train Epoch: 10/10 [60000/60000 (100%)]\tLoss: 0.585615\t Test Accuracy: 82.2300%\n",
            " Train Epoch: 10/10 [50100/60000 (84%)]\tLoss: 0.538115Test Accuracy: 0.816600 %\n",
            " Train Epoch: 10/10 [60000/60000 (100%)]\tLoss: 0.602984\t Test Accuracy: 81.6600%\n",
            " Train Epoch: 10/10 [50100/60000 (84%)]\tLoss: 0.700882Test Accuracy: 0.828100 %\n",
            " Train Epoch: 10/10 [60000/60000 (100%)]\tLoss: 0.548257\t Test Accuracy: 82.8100%\n",
            "{'im_res_orig': 12, 'im_res_new': 23, 'layer1': [5, 2, 0], 'layer2': [5, 2, 2], 'pool_layer': [5, 2, 1], 'orig_solutions': [(16700.0, 5330.0, 0.8043999999999999)], 'new_solutions': [(38540.0, 5330.0, 0.8223333333333334)]} \n",
            "\n",
            "[INFO] Register count_convNd() for <class 'torch.nn.modules.conv.Conv2d'>.\n",
            "\u001b[91m[WARN] Cannot find rule for <class 'torch.nn.modules.dropout.Dropout2d'>. Treat it as zero Macs and zero Params.\u001b[00m\n",
            "[INFO] Register count_linear() for <class 'torch.nn.modules.linear.Linear'>.\n",
            "\u001b[91m[WARN] Cannot find rule for <class '__main__.NetTest'>. Treat it as zero Macs and zero Params.\u001b[00m\n",
            " Train Epoch: 10/10 [50100/60000 (84%)]\tLoss: 0.807467Test Accuracy: 0.823300 %\n",
            " Train Epoch: 10/10 [60000/60000 (100%)]\tLoss: 0.479190\t Test Accuracy: 82.3300%\n",
            " Train Epoch: 1/10 [50100/60000 (84%)]\tLoss: 0.857459"
          ],
          "name": "stdout"
        }
      ]
    },
    {
      "cell_type": "code",
      "metadata": {
        "id": "9zQQFZzZAnz1"
      },
      "source": [
        "# ([len(x) for x in all_solutions])\n",
        "sol_3\n",
        "# \n",
        "# len(all_solutions)\n",
        "\n",
        "\n",
        "\n",
        "all_res[N1]"
      ],
      "execution_count": null,
      "outputs": []
    },
    {
      "cell_type": "code",
      "metadata": {
        "id": "3cPgmIM1mSSU",
        "colab": {
          "base_uri": "https://localhost:8080/"
        },
        "outputId": "6a3c1ccb-abba-4ef9-ec81-6e40b676a9df"
      },
      "source": [
        "all_solutions[0]"
      ],
      "execution_count": 64,
      "outputs": [
        {
          "output_type": "execute_result",
          "data": {
            "text/plain": [
              "[{'im_res_new': 13,\n",
              "  'im_res_orig': 12,\n",
              "  'layer1': [5, 2, 0],\n",
              "  'layer2': [3, 1, 0],\n",
              "  'pool_layer': [2, 1, 0]},\n",
              " {'im_res_new': 13,\n",
              "  'im_res_orig': 12,\n",
              "  'layer1': [5, 2, 0],\n",
              "  'layer2': [3, 1, 0],\n",
              "  'pool_layer': [4, 1, 1]},\n",
              " {'im_res_new': 15,\n",
              "  'im_res_orig': 12,\n",
              "  'layer1': [5, 2, 0],\n",
              "  'layer2': [3, 1, 0],\n",
              "  'pool_layer': [3, 1, 0]},\n",
              " {'im_res_new': 15,\n",
              "  'im_res_orig': 12,\n",
              "  'layer1': [5, 2, 0],\n",
              "  'layer2': [3, 1, 0],\n",
              "  'pool_layer': [5, 1, 1]},\n",
              " {'im_res_new': 17,\n",
              "  'im_res_orig': 12,\n",
              "  'layer1': [5, 2, 0],\n",
              "  'layer2': [3, 1, 0],\n",
              "  'pool_layer': [4, 1, 0]},\n",
              " {'im_res_new': 19,\n",
              "  'im_res_orig': 12,\n",
              "  'layer1': [5, 2, 0],\n",
              "  'layer2': [3, 1, 0],\n",
              "  'pool_layer': [2, 2, 0]},\n",
              " {'im_res_new': 19,\n",
              "  'im_res_orig': 12,\n",
              "  'layer1': [5, 2, 0],\n",
              "  'layer2': [3, 1, 0],\n",
              "  'pool_layer': [4, 2, 1]},\n",
              " {'im_res_new': 19,\n",
              "  'im_res_orig': 12,\n",
              "  'layer1': [5, 2, 0],\n",
              "  'layer2': [3, 1, 0],\n",
              "  'pool_layer': [5, 1, 0]},\n",
              " {'im_res_new': 21,\n",
              "  'im_res_orig': 12,\n",
              "  'layer1': [5, 2, 0],\n",
              "  'layer2': [3, 1, 0],\n",
              "  'pool_layer': [2, 2, 0]},\n",
              " {'im_res_new': 21,\n",
              "  'im_res_orig': 12,\n",
              "  'layer1': [5, 2, 0],\n",
              "  'layer2': [3, 1, 0],\n",
              "  'pool_layer': [3, 2, 0]},\n",
              " {'im_res_new': 21,\n",
              "  'im_res_orig': 12,\n",
              "  'layer1': [5, 2, 0],\n",
              "  'layer2': [3, 1, 0],\n",
              "  'pool_layer': [4, 2, 1]},\n",
              " {'im_res_new': 21,\n",
              "  'im_res_orig': 12,\n",
              "  'layer1': [5, 2, 0],\n",
              "  'layer2': [3, 1, 0],\n",
              "  'pool_layer': [5, 2, 1]},\n",
              " {'im_res_new': 23,\n",
              "  'im_res_orig': 12,\n",
              "  'layer1': [5, 2, 0],\n",
              "  'layer2': [3, 1, 0],\n",
              "  'pool_layer': [3, 2, 0]},\n",
              " {'im_res_new': 23,\n",
              "  'im_res_orig': 12,\n",
              "  'layer1': [5, 2, 0],\n",
              "  'layer2': [3, 1, 0],\n",
              "  'pool_layer': [4, 2, 0]},\n",
              " {'im_res_new': 23,\n",
              "  'im_res_orig': 12,\n",
              "  'layer1': [5, 2, 0],\n",
              "  'layer2': [3, 1, 0],\n",
              "  'orig_solutions': [],\n",
              "  'pool_layer': [5, 2, 1]},\n",
              " {'im_res_new': 25,\n",
              "  'im_res_orig': 12,\n",
              "  'layer1': [5, 2, 0],\n",
              "  'layer2': [3, 1, 0],\n",
              "  'pool_layer': [4, 2, 0]},\n",
              " {'im_res_new': 25,\n",
              "  'im_res_orig': 12,\n",
              "  'layer1': [5, 2, 0],\n",
              "  'layer2': [3, 1, 0],\n",
              "  'pool_layer': [5, 2, 0]},\n",
              " {'im_res_new': 27,\n",
              "  'im_res_orig': 12,\n",
              "  'layer1': [5, 2, 0],\n",
              "  'layer2': [3, 1, 0],\n",
              "  'pool_layer': [5, 2, 0]}]"
            ]
          },
          "metadata": {
            "tags": []
          },
          "execution_count": 64
        }
      ]
    },
    {
      "cell_type": "code",
      "metadata": {
        "id": "2GhWb1-mmS5a"
      },
      "source": [
        "  "
      ],
      "execution_count": null,
      "outputs": []
    },
    {
      "cell_type": "code",
      "metadata": {
        "id": "x8U-8XrLKrgV",
        "colab": {
          "base_uri": "https://localhost:8080/",
          "height": 265
        },
        "outputId": "caf3f82b-c0bd-4d94-bdd3-eedff1609141"
      },
      "source": [
        "for k in all_res.keys():\n",
        "  means = np.mean(np.array([(x[-1],np.max(y)) for x,y in all_res[k]]), axis=0)\n",
        "  # stds = np.std(np.array([(x[0][-1],np.max(y)) for x,y in all_res[k] ]), axis=0)\n",
        "  plt.plot(means)"
      ],
      "execution_count": 15,
      "outputs": [
        {
          "output_type": "display_data",
          "data": {
            "image/png": "[encoded data removed]",
            "text/plain": [
              "<Figure size 432x288 with 1 Axes>"
            ]
          },
          "metadata": {
            "tags": [],
            "needs_background": "light"
          }
        }
      ]
    },
    {
      "cell_type": "code",
      "metadata": {
        "colab": {
          "base_uri": "https://localhost:8080/"
        },
        "id": "iVKpqr7n6h0B",
        "outputId": "979383b4-5bfd-44ad-c68e-c72e2e7c88f2"
      },
      "source": [
        "means"
      ],
      "execution_count": 16,
      "outputs": [
        {
          "output_type": "execute_result",
          "data": {
            "text/plain": [
              "array([0.82263667, 0.86711667])"
            ]
          },
          "metadata": {
            "tags": []
          },
          "execution_count": 16
        }
      ]
    },
    {
      "cell_type": "code",
      "metadata": {
        "id": "zxHleTnpacj_"
      },
      "source": [
        "for k in all_res.keys():\n",
        "  means = np.mean(np.array([(x[0][-1],y) for x,y in all_res[k] ]), axis=0)\n",
        "  stds = np.std(np.array([(x[0][-1],y) for x,y in all_res[k] ]), axis=0)\n",
        "  plt.plot(means)\n"
      ],
      "execution_count": null,
      "outputs": []
    },
    {
      "cell_type": "code",
      "metadata": {
        "id": "xvJH19_TC3sO"
      },
      "source": [
        "sol_3"
      ],
      "execution_count": null,
      "outputs": []
    },
    {
      "cell_type": "code",
      "metadata": {
        "id": "vQHMz9pRjGcr"
      },
      "source": [
        "# FLOPS\n",
        "# http://www.bnikolic.co.uk/blog/python/flops/2019/10/01/pytorch-count-flops.html"
      ],
      "execution_count": null,
      "outputs": []
    },
    {
      "cell_type": "markdown",
      "metadata": {
        "id": "BEym_vLOgEp5"
      },
      "source": [
        ""
      ]
    },
    {
      "cell_type": "code",
      "metadata": {
        "id": "3ahq_bgDgEp5"
      },
      "source": [
        "aa = {2:'a'}"
      ],
      "execution_count": null,
      "outputs": []
    },
    {
      "cell_type": "code",
      "metadata": {
        "id": "tJBPTzm-kejx"
      },
      "source": [
        "from matplotlib import pyplot as plt"
      ],
      "execution_count": null,
      "outputs": []
    },
    {
      "cell_type": "code",
      "metadata": {
        "id": "WwpWkGRZlWsO"
      },
      "source": [
        "colors = ['blue', 'red', 'green', ]\n",
        "for idx,i in enumerate([7,14,28]):\n",
        "  plt.plot(np.log(pars[ress==i]), score[ress==i] , 'o', color = colors[idx])\n",
        "\n",
        "plt.legend(['res = 7', 'res = 14', 'res = 28'])"
      ],
      "execution_count": null,
      "outputs": []
    },
    {
      "cell_type": "code",
      "metadata": {
        "id": "MjPLszlGlaY4"
      },
      "source": [
        "colors = ['blue', 'red', 'green', ]\n",
        "for idx,i in enumerate([7,14,28]):\n",
        "  plt.plot(np.log(flops[ress==i]), score[ress==i] , 'o', color = colors[idx])\n",
        "\n",
        "plt.legend(['res = 7', 'res = 14', 'res = 28'])"
      ],
      "execution_count": null,
      "outputs": []
    },
    {
      "cell_type": "code",
      "metadata": {
        "id": "z9DPWCI0mq-r"
      },
      "source": [
        ""
      ],
      "execution_count": null,
      "outputs": []
    },
    {
      "cell_type": "code",
      "metadata": {
        "id": "5FqAhvbIobLN"
      },
      "source": [
        "from google.colab import drive\n",
        "drive.mount('/content/drive')"
      ],
      "execution_count": null,
      "outputs": []
    },
    {
      "cell_type": "code",
      "metadata": {
        "id": "YovErL0-oUEs"
      },
      "source": [
        "# ls MyDrive/"
      ],
      "execution_count": null,
      "outputs": []
    },
    {
      "cell_type": "code",
      "metadata": {
        "id": "-kmPE3U2of2t"
      },
      "source": [
        "cd drive/"
      ],
      "execution_count": null,
      "outputs": []
    },
    {
      "cell_type": "code",
      "metadata": {
        "id": "N15rtEEdolUm"
      },
      "source": [
        "# cd /MyDrive/classification_images/Pairwise\n",
        "!cd MyDrive/ClassificationImages/Pairwise/"
      ],
      "execution_count": null,
      "outputs": []
    },
    {
      "cell_type": "code",
      "metadata": {
        "id": "uG_7x65oonJS"
      },
      "source": [
        "# from google.colab import files\n",
        "# # \n",
        "# with open('example.txt', 'w') as f:\n",
        "#   f.write('some content')\n",
        "\n",
        "# files.download('example.txt')\n",
        "\n",
        "\n",
        "\n",
        "# with open('MyDrive/ClassificationImages/Pairwise/accs_mnist.npz', 'w') as f:\n",
        "np.savez('MyDrive/ClassificationImages/Pairwise/accs_fmnist.npz', accs)\n"
      ],
      "execution_count": null,
      "outputs": []
    },
    {
      "cell_type": "code",
      "metadata": {
        "id": "GNss-tWspL-P"
      },
      "source": [
        "# with open('MyDrive/ClassificationImages/Pairwise/accs_mnist.npz') as f:\n",
        "dd = np.load('MyDrive/ClassificationImages/Pairwise/accs_mnist.npz')"
      ],
      "execution_count": null,
      "outputs": []
    },
    {
      "cell_type": "code",
      "metadata": {
        "id": "g07IsyKrqM7x"
      },
      "source": [
        "# accs = dd['arr_0']"
      ],
      "execution_count": null,
      "outputs": []
    },
    {
      "cell_type": "code",
      "metadata": {
        "id": "CIeLykpBqNQD"
      },
      "source": [
        "def test_f(aa):\n",
        "  aa.append(10)\n",
        "\n",
        "  return\n",
        "\n",
        "q = [1]\n",
        "test_f(q)\n",
        "print(q)\n"
      ],
      "execution_count": null,
      "outputs": []
    },
    {
      "cell_type": "code",
      "metadata": {
        "id": "qKYYYozCrES4"
      },
      "source": [
        "torch.__version__\n"
      ],
      "execution_count": null,
      "outputs": []
    },
    {
      "cell_type": "code",
      "metadata": {
        "id": "Ak6fzUmEAGGU"
      },
      "source": [
        ""
      ],
      "execution_count": null,
      "outputs": []
    }
  ]
}